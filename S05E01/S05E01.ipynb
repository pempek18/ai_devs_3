{
 "cells": [
  {
   "cell_type": "markdown",
   "metadata": {},
   "source": [
    "Zdobyliśmy transkrypcję nagrań z kilku rozmów, które mogą być dla nas interesujące. Wszystkie pośrednio lub bezpośrednio dotyczą Rafała. Niestety dane, które posiadamy, są dosłownie poszatkowane. Wiemy, że wszystkich rozmów było 5 sztuk. Wiemy także z logów, jakim zdaniem rozpoczyna i kończy się każda rozmowa. Dodatkowo dowiedzieliśmy się, że podczas rozmowy padają pewne sprzeczne ze sobą informacje. Trzeba zweryfikować, który z rozmówców jest kłamcą i wykluczyć jego wersję podawanych nam danych. Mając zgromadzoną wszelką potrzebną wiedzę, pozostaje nam jedynie udzielenie odpowiedzi na pytania od Centrali. Być może przydadzą Ci się dane z folderu z taktami (”facts”) z poprzednich zadań. Nazwa zadania to “phone”.\n",
    "\n",
    "Oto dane, na których pracujemy:\n",
    "\n",
    "https://centrala.ag3nts.org/data/TUTAJ-KLUCZ/phone.json\n",
    "\n",
    "Lista pytań od centrali:\n",
    "\n",
    "https://centrala.ag3nts.org/data/TUTAJ-KLUCZ/phone_questions.json\n",
    "\n",
    "Oczekiwany format odpowiedzi do centrali\n",
    "\n",
    "{\n",
    "  \"01\":\"zwięzła odpowiedź\",\n",
    "  \"02\":\"zwięzła odpowiedź\",\n",
    "  \"03\":\"zwięzła odpowiedź\",\n",
    "  \"04\":\"zwięzła odpowiedź\",\n",
    "  \"05\":\"zwięzła odpowiedź\",\n",
    "  \"06\":\"zwięzła odpowiedź\",\n",
    "}\n",
    "\n",
    "\n",
    "Co należy zrobić w zadaniu?\n",
    "\n",
    "Pobierz JSON-a z transkrypcją rozmów i odbuduj strukturę każdej z konwersacji\n",
    "\n",
    "Możesz spróbować wywnioskować, jak mają na imię poszczególne postacie. Przyda Ci się to przy odpowiadaniu na pytania\n",
    "\n",
    "Niektóre osoby odwołują się do pewnych faktów, ale jedna osoba ściemnia - która? Konieczne tutaj będzie odwołanie się albo do wiedzy powszechnej, albo do folderu z faktami\n",
    "\n",
    "Pobierz listę pytań z centrali i spróbuj na nie odpowiedzieć.\n",
    "\n",
    "Jedno z pytań wymaga porozmawiania z API, pobrania odpowiedzi i wrzucenia jej do jednego z pól w answer.\n",
    "\n",
    "Gdy wszystkie dane będą już skompletowane, odeślij je do centrali jako zadanie “phone”\n",
    "\n",
    "Jeśli odpowiedzi będą poprawne, otrzymasz flagę w odpowiedzi od centrali\n",
    "\n",
    "🚨 UWAGA 🚨: nie wszystkie informacje podane są w tekście. Niektóre należy uzyskać z “faktów” z poprzednich zadań. W każdej rozmowie uczestniczą tylko dwie osoby, które wypowiadają się naprzemiennie. Imiona rozmówców są unikalne, więc jeśli np. Stefan pojawia się w pierwszej i piątej rozmowie, to jest to ten sam Stefan.\n",
    "\n",
    "To zadanie (jak wszystkie inne) można wykonać na wiele różnych sposobów. Ideałem byłoby napisanie takiego kodu i takiego zbioru promptów, aby napisana przez Ciebie aplikacja samodzielnie była w stanie odpowiedzieć na pytania centrali, samodzielnie pozyskać potrzebne fakty, samodzielnie ocenić prawdziwość napotkanych informacji oraz samodzielnie porozmawiać w odpowiedni sposób z podanym API. To jest oczywiście wersja “MAX”. Początkowo sugerujemy zrobienie wersji, która po prostu działa.\n",
    "\n",
    "🛟 POMOC 🛟\n",
    "\n",
    "Pierwsza część zadania polegająca na poprawnym ułożeniu kolejności wypowiedzi w dialogach może wymagać bardzo zaawansowanego prompt engineeringu lub nietypowego podejścia do problemu (np. iteracyjnie składanie rozmów, zdanie po zdaniu, a nie od razu całości). Jeśli po wielu próbach stracisz nadzieję, że da się to zrobić lub zaczniesz wypowiadać się niczym Rafał w nagraniach, to w celu zachowania Twojego zdrowia psychicznego, poniżej publikujemy już posortowane rozmowy. Dzięki nim możesz przejść do dalszej części zadania, pomijając tę część (zdekoduj base64)."
   ]
  },
  {
   "cell_type": "code",
   "execution_count": 2,
   "metadata": {},
   "outputs": [],
   "source": [
    "import requests\n",
    "import os\n",
    "import json\n",
    "from dotenv import load_dotenv\n",
    "\n",
    "load_dotenv()\n",
    "\n",
    "personal_api_key = os.getenv(\"PERSONAL_API_KEY\")"
   ]
  },
  {
   "cell_type": "code",
   "execution_count": 3,
   "metadata": {},
   "outputs": [],
   "source": [
    "file = requests.get(f\"https://centrala.ag3nts.org/data/{personal_api_key}/phone.json\")\n",
    "# Add encoding parameter to requests to ensure proper character handling\n",
    "file.encoding = 'utf-8'\n",
    "with open(\"phone.json\", encoding=\"utf-8\", mode=\"w\") as f:\n",
    "    f.write(file.text)"
   ]
  },
  {
   "cell_type": "code",
   "execution_count": 4,
   "metadata": {},
   "outputs": [
    {
     "name": "stdout",
     "output_type": "stream",
     "text": [
      "{\n",
      "    \"01\": \"Jeden z rozmówców skłamał podczas rozmowy. Kto to był?\",\n",
      "    \"02\": \"Jaki jest prawdziwy endpoint do API podany przez osobę, która NIE skłamała?\",\n",
      "    \"03\": \"Jakim przezwiskiem określany jest chłopak Barbary?\",\n",
      "    \"04\": \"Jakie dwie osoby rozmawiają ze sobą w pierwszej rozmowie? Podaj ich imiona\",\n",
      "    \"05\": \"Co odpowiada poprawny endpoint API po wysłaniu do niego hasła w polu \"password\" jako JSON?\",\n",
      "    \"06\": \"Jak ma na imię osoba, która dostarczyła dostęp do API, ale nie znała do niego hasła, jednak nadal pracuje nad jego zdobyciem?\"\n",
      "}\n"
     ]
    }
   ],
   "source": [
    "questions = requests.get(f\"https://centrala.ag3nts.org/data/{personal_api_key}/phone_questions.json\")\n",
    "questions.encoding = 'unicode_escape'\n",
    "print(questions.text)\n"
   ]
  },
  {
   "cell_type": "code",
   "execution_count": 5,
   "metadata": {},
   "outputs": [],
   "source": [
    "import openai\n",
    "client = openai.OpenAI(api_key=os.getenv(\"OPENAI_API_KEY\"))"
   ]
  },
  {
   "cell_type": "code",
   "execution_count": 6,
   "metadata": {},
   "outputs": [
    {
     "name": "stdout",
     "output_type": "stream",
     "text": [
      "[\n",
      "    \"- no ja nie mog\\u0119... ale to spokojnie przyjmujesz. Po prostu \\\"s\\u0142ysza\\u0142em\\\"? Go\\u015bcia ju\\u017c nie ma! Nie \\u017cyje! Oni chyba [*niezrozumia\\u0142e d\\u017awi\\u0119ki*] i go\\u015b\\u0107 nie \\u017cyje! [*niezrozumia\\u0142e d\\u017awi\\u0119ki*] wi\\u0119c musimy [*trzaski*] wi\\u0119c [*trzaski*] bo dron [*trzaski*]\",\n",
      "    \"- tak. Dos\\u0142ownie przed chwil\\u0105 rozmawia\\u0142em, gdy zadzwoni\\u0142e\\u015b, ale nic od niego nie wydoby\\u0142a\",\n",
      "    \"- Nie wiem. Siedz\\u0119 nad tymi warstwami ju\\u017c\\u00a0od kilku dni i powiem Ci, \\u017ce on musia\\u0142 u\\u017cywa\\u0107 technologii z przysz\\u0142o\\u015bci, bo nasze LLM-y s\\u0105 zbyt wolne, aby przej\\u015b\\u0107 kolejne warstwy weryfikacji. Bez skoku w czasie i pomocy Zygfryda chyba si\\u0119\\u00a0nie uda\",\n",
      "    \"- Dobra. Uznajmy, \\u017ce wiedzia\\u0142 o nadajniku. A zosta\\u0142y jakie\\u015b\\u00a0Twoje \\u015blady w jaskini jak tam by\\u0142a\\u015b? mog\\u0105 si\\u0119\\u00a0zorientowa\\u0107, \\u017c\\u0119 go odwiedza\\u0142a\\u015b?\",\n",
      "    \"- posz\\u0142o niezgodnie z planem? uciek\\u0142 Ci go\\u015b\\u0107?\",\n",
      "    \"- wiesz dobrze, \\u017ce skaka\\u0107 w czasie mo\\u017ce teraz tylko Azazel, a z nim to nie ma rozmowy. Ale dobra... Zygfryd nakr\\u0119ci numer pi\\u0105ty na z\\u0142amanie tego.\",\n",
      "    \"- tak. Mam dla Ciebie nowe zadanie. Skontaktuj si\\u0119\\u00a0z Tomaszem. On pracuje w Centrali. Mo\\u017ce pom\\u00f3c Ci w\\u0142ama\\u0107\\u00a0si\\u0119\\u00a0do komputera tego go\\u015bcia. Masz ju\\u017c\\u00a0endpoint API?\",\n",
      "    \"- no to czekam na informacj\\u0119 jak ju\\u017c\\u00a0znajd\\u0105 to IP, a on jest ju\\u017c z Tob\\u0105?\",\n",
      "    \"- ten stan nawet u\\u0142atwia\\u0142, a nie utrudnia\\u0142 zadanie. Ch\\u0142on\\u0105\\u0142 wiedz\\u0119 jak g\\u0105bka. My\\u015bl\\u0119, \\u017ce wszystko zrozumia\\u0142.\",\n",
      "    \"- a zdalny dost\\u0119p do jego kompa wchodzi w gr\\u0119 je\\u015bli nie mo\\u017cemy i\\u015b\\u0107 do mieszkania?\",\n",
      "    \"- Nie, to wszysto. No to we\\u017a\\u00a0teraz ten endpoint i u\\u017cyj do po\\u0142\\u0105czenia. Tomasz powie Ci jakie jest has\\u0142o do pierwszej warstwy zabezpiecze\\u0144. OK. Nie marnuj czasu. Dzwo\\u0144!\",\n",
      "    \"- tak Zygfryd, s\\u0142ysz\\u0119 Ci\\u0119\\u00a0teraz dobrze. Przepraszam, gdy poprzednio dzwoni\\u0142e\\u015b, by\\u0142em w fabryce. Wiesz, w sektorze D, gdzie si\\u0119\\u00a0produkuje bro\\u0144 i tutaj maj\\u0105 jak\\u0105\\u015b izolacj\\u0119 na \\u015bcianach dodatkow\\u0105. Telefon gubi zasi\\u0119g. Masz jakie\\u015b\\u00a0nowe zadanie dla mnie?\",\n",
      "    \"- aaa wiesz. Ten Tw\\u00f3j \\\"nauczyciel\\\" mi go\\u00a0dostarczy\\u0142, ale has\\u0142a jeszcze nie zdoby\\u0142, ale pracuje on nad tym\",\n",
      "    \"- a kto to wie... przecie\\u017c [*nies\\u0142yszalne*] nigdy nie wiadomo co on tam wiedzia\\u0142 i czy by\\u0142\\u00a0\\u015bwiadomy nadajnika. Mo\\u017cemy si\\u0119\\u00a0tylko domy\\u015bla\\u0107.\",\n",
      "    \"- trzymaj, to jest ten endpoint do API: https://rafal.ag3nts.org/b46c3 ale nie mam has\\u0142a do niego\",\n",
      "    \"- To co teraz zrobimy? Trzeba ich szuka\\u0107 u niego w mieszkaniu, bo tam chyba zostawi\\u0142 sprz\\u0119t?\",\n",
      "    \"- Tak Samuelu. S\\u0142ysza\\u0142em. Wiem o wszystkim. Przede mn\\u0105\\u00a0si\\u0119 to nie ukryje.\",\n",
      "    \"- No cze\\u015b\\u0107. Troch\\u0119 nieswojo, ale jako\\u015b to b\\u0119dzie. On by\\u0142 w naprawd\\u0119 kiepskim stanie. Trudno si\\u0119\\u00a0z nim rozmawia\\u0142o\",\n",
      "    \"- \\u017cal Ci... \\u017cal... ale on nie wykona\\u0142 zadania. Fuck!!!!\",\n",
      "    \"- Ty si\\u0119\\u00a0znasz na programowaniu, security i tym ca\\u0142ym IT, nie? Potrzebuj\\u0119 pomocy w z\\u0142amaniu zabezpiecze\\u0144 komputera. Mam endpoint API. Mo\\u017cesz mi w tym pom\\u00f3c?\",\n",
      "    \"- nie ma go tutaj. Wiesz co... troch\\u0119 si\\u0119\\u00a0sprawy pokomplikowa\\u0142y. Niezupe\\u0142nie to wszystko posz\\u0142o zgodnie z planem.\",\n",
      "    \"- to pi\\u0105tka nadal si\\u0119 niczego nie domy\\u015bla?\",\n",
      "    \"- no siema Witek! Jestem, jestem. Rozmawia\\u0142am z Samuelem. Chyba si\\u0119\\u00a0na mnie troch\\u0119 wkurzy\\u0142. Jak Ci mog\\u0119 pom\\u00f3c?\",\n",
      "    \"- a sk\\u0105d Ty masz ten endpoint i do tego bez has\\u0142a? Jak go zdoby\\u0142e\\u015b?\",\n",
      "    \"- my\\u015bl\\u0119, \\u017ce tak. Zdalnie sobie poradzimy. Go\\u015bcie z centrali kombinuj\\u0105 co\\u015b z przeszukiwaniem ca\\u0142ej puli adres\\u00f3w IP. Jak tylko co\\u015b znajd\\u0105, to dam Ci zna\\u0107. Sama jestem ciekawa na ile on zabezpieczy\\u0142 sw\\u00f3j sprz\\u0119t i co tam w mia\\u0142 w \\u015brodku.\",\n",
      "    \"- To dobrze, \\u017ce zrozumia\\u0142. A co z tymi dokumentami, o kt\\u00f3rych rozmawiali\\u015bmy?\",\n",
      "    \"- czy to jest teraz wa\\u017cne sk\\u0105d?! Andrzej mia\\u0142 nadajnik GPS w samochodzie, to go namierzyli nawet na tym odludziu. No zawali\\u0142am z tym. Wiem, ale wa\\u017cniejsze jest teraz to, \\u017ce go\\u015b\\u0107 nie \\u017cyje i nie mamy dost\\u0119pu do jego komputera. To jest najwa\\u017cniejsze. Kurwa, wiesz [*nies\\u0142yszalne*], \\u017cal mi go\\u015bcia... \",\n",
      "    \"- no to wyci\\u0105gnij z centrali informacj\\u0119 w kt\\u00f3rym kierunku pojecha\\u0142 Andrzej!\",\n",
      "    \"- mmmm... takie filozoficzne to has\\u0142o i w sumie pasuje teraz do kontekstu haha! Spoko. Dzi\\u0119ki. A kolejne warstwy?\",\n",
      "    \"- a to on wiedzia\\u0142, \\u017ce Andrzej ma nadajnik w samochodzie?\",\n",
      "    \"- rozmawia\\u0142a z nim, ale nie zdo\\u0142a\\u0142a zdoby\\u0107 brakuj\\u0105cych informacji. M\\u00f3wi\\u0142, \\u017ce wszystko ma w komputerze, ale nie mia\\u0142 przy sobie \\u017cadnego sprz\\u0119tu. Do tego durna baba jako wym\\u00f3wk\\u0119 wzi\\u0119\\u0142a \\\"nauk\\u0119 JavaScriptu\\\". Czaisz? d\\u017cejesa go b\\u0119dzie uczy\\u0107! W centrali maj\\u0105\\u00a0teraz pewnie niez\\u0142y ubaw. Poza tym, to... Zygfryd, Ty s\\u0142ysza\\u0142e\\u015b co si\\u0119\\u00a0sta\\u0142o?\",\n",
      "    \"- no to daj adres do API. Pokombinuj\\u0119 co\\u015b\\u00a0sama, albo zapytam m\\u0105drzejszych od siebie\",\n",
      "    \"- coooo? jak to mo\\u017cliwe? Rozmawiamy, a Ty jakby nigdy nic m\\u00f3wisz, \\u017ce \\\"nie \\u017cyje\\\"? Kiedy mia\\u0142a\\u015b zamiar mi powiedzie\\u0107? no i sk\\u0105d oni wiedzieli gdzie szuka\\u0107? To by\\u0142a przecie\\u017c jaskinia na odludziu!\",\n",
      "    \"- dokumenty? M\\u00f3wi\\u0142, \\u017ce wszystko ma w komputerze, ale go\\u015b\\u0107\\u00a0nie mia\\u0142 przy sobie \\u017cadnego sprz\\u0119tu. W tej norze nawet pr\\u0105du nie by\\u0142o.\",\n",
      "    \"- dlaczego? nie wykona\\u0142a zadania? co z ni\\u0105?\",\n",
      "    \"- haha... przesta\\u0144 tak o nim m\\u00f3wi\\u0107. Wiesz przecie\\u017c, jak on si\\u0119 wkurza, gdy si\\u0119\\u00a0go nazwie nauczycielem. Dobra, daj mi chwil\\u0119. B\\u0119d\\u0119 pr\\u00f3bowa\\u0142a co\\u015b\\u00a0z tym pokombinowa\\u0107.\",\n",
      "    \"- no nie wykona\\u0142! i ju\\u017c raczej nie wykona w tym stanie... Andrzeja te\\u017c\\u00a0ju\\u017c nie ma i nie wiadomo gdzie jest. Zwia\\u0142\",\n",
      "    \"- pewnie tak, ale gdzie jest to jego mieszkanie? Obecnie to chyba ta jaskinia nazywana jest przez niego\\u00a0\\\"domem\\\" hahaha\",\n",
      "    \"- problem w tym, \\u017ce zostawi\\u0142 sw\\u00f3j samoch\\u00f3d, wi\\u0119c nie za bardzo \\\"pojecha\\u0142\\\". Mo\\u017ce on mu powiedzia\\u0142 o nadajniku?\",\n",
      "    \"- nie uciek\\u0142. Go\\u015b\\u0107 nie \\u017cyje... Go\\u015bcie z centrali wys\\u0142ali tam drona. Dowiedzia\\u0142am si\\u0119\\u00a0o wszystkim z raportu\",\n",
      "    \"- Aaaa hej! hej!. Tak, mog\\u0119 Ci pom\\u00f3c. Has\\u0142o do pierwszej warstwy to \\\"NONOMNISMORIAR\\\".\",\n",
      "    \"- tak, mam ten endpoint. https://rafal.ag3nts.org/510bc - Dzi\\u0119ki. Zadzwoni\\u0119 do Tomasza dopyta\\u0107 o reszt\\u0119. Co\\u015b jeszcze?\",\n",
      "    \"- by\\u0142am tam normalnie, jawnie. Um\\u00f3wi\\u0142am si\\u0119 oficjalnie, \\u017ce b\\u0119d\\u0119 go uczy\\u0142a JavaScriptu. Mia\\u0142 mu si\\u0119\\u00a0przyda\\u0107 do szkolenia tego, co teraz przerabia. Na papierze tre\\u015b\\u0107\\u00a0lekcji czyta, to mu chcia\\u0142am troch\\u0119\\u00a0pot\\u0142umaczy\\u0107 to wszystko. Nie chcia\\u0142am przecie\\u017c m\\u00f3wi\\u0107 wprost po co przyje\\u017cd\\u017cam.\",\n",
      "    \"- Ale zrozumia\\u0142 co\\u015b z tego, co mu powiedzia\\u0142a\\u015b?\"\n",
      "]\n"
     ]
    }
   ],
   "source": [
    "talk_to_fit = json.loads(file.text)[\"reszta\"]\n",
    "\n",
    "print(json.dumps(talk_to_fit, indent=4))"
   ]
  },
  {
   "cell_type": "code",
   "execution_count": 7,
   "metadata": {},
   "outputs": [
    {
     "name": "stdout",
     "output_type": "stream",
     "text": [
      "```json\n",
      "{\n",
      "    \"01\": \"Samuel kłamał.\",\n",
      "    \"02\": \"https://rafal.ag3nts.org/510bc\",\n",
      "    \"03\": \"Nauczyciel\",\n",
      "    \"04\": \"Zygfryd, Barbara\",\n",
      "    \"05\": \"Nie mogę odpowiedzieć na to pytanie bez danych.\",\n",
      "    \"06\": \"Samuel\"\n",
      "}\n",
      "```\n"
     ]
    }
   ],
   "source": [
    "with open(\"prompt.md\", \"r\") as f:\n",
    "    prompt = f.read()\n",
    "response = client.chat.completions.create(\n",
    "    model=\"gpt-4o-mini\",\n",
    "    messages=[{\"role\": \"system\", \"content\": prompt}, {\"role\": \"user\", \"content\": json.dumps(talk_to_fit)}]\n",
    ")\n",
    "\n",
    "print(response.choices[0].message.content)"
   ]
  },
  {
   "cell_type": "code",
   "execution_count": 8,
   "metadata": {},
   "outputs": [
    {
     "name": "stdout",
     "output_type": "stream",
     "text": [
      "{\n",
      "    \"01\": \"Samuel k\\u0142ama\\u0142.\",\n",
      "    \"02\": \"https://rafal.ag3nts.org/510bc\",\n",
      "    \"03\": \"Nauczyciel\",\n",
      "    \"04\": \"Zygfryd, Barbara\",\n",
      "    \"05\": \"Nie mog\\u0119 odpowiedzie\\u0107 na to pytanie bez danych.\",\n",
      "    \"06\": \"Samuel\"\n",
      "}\n"
     ]
    }
   ],
   "source": [
    "# Extract the JSON content from the response\n",
    "response_content = response.choices[0].message.content\n",
    "\n",
    "# Find the JSON block between triple backticks\n",
    "import re\n",
    "json_match = re.search(r'```json\\s*(.*?)\\s*```', response_content, re.DOTALL)\n",
    "\n",
    "if json_match:\n",
    "    json_str = json_match.group(1)\n",
    "    answer = json.loads(json_str)\n",
    "\n",
    "print(json.dumps(answer, indent=4))"
   ]
  },
  {
   "cell_type": "code",
   "execution_count": 9,
   "metadata": {},
   "outputs": [
    {
     "name": "stdout",
     "output_type": "stream",
     "text": [
      "{\"task\": \"phone\", \"apikey\": \"1400cbf0-b7dd-49ab-9342-6ad8fd26ba69\", \"answer\": {\"01\": \"Samuel kłamał.\", \"02\": \"https://rafal.ag3nts.org/510bc\", \"03\": \"Nauczyciel\", \"04\": \"Zygfryd, Barbara\", \"05\": \"Nie mogę odpowiedzieć na to pytanie bez danych.\", \"06\": \"Samuel\"}}\n",
      "Status Code: 400\n",
      "Response Body: {\n",
      "    \"code\": -350,\n",
      "    \"message\": \"Answer for question 02 is incorrect\"\n",
      "}\n"
     ]
    }
   ],
   "source": [
    "answer_json = {\n",
    "    \"task\": \"phone\",\n",
    "    \"apikey\": personal_api_key,\n",
    "    \"answer\": answer\n",
    "}\n",
    "answer_url = \"https://centrala.ag3nts.org/report\"\n",
    "answer_response = requests.post(answer_url, json=answer_json)\n",
    "print(answer_response.request.body.decode('unicode-escape'))  # Displays the request body\n",
    "\n",
    "# Assuming `login_response` is the response object from the login request\n",
    "print(\"Status Code:\", answer_response.status_code)  # Displays the status code (e.g., 200)\n",
    "print(\"Response Body:\", answer_response.text.encode('utf-8').decode('unicode-escape'))       # Displays the response content as a string"
   ]
  },
  {
   "cell_type": "code",
   "execution_count": 10,
   "metadata": {},
   "outputs": [],
   "source": [
    "def ai_web_tool(endpoint, password):\n",
    "    response = requests.post(endpoint, json={\"password\": password})\n",
    "    return response.text, response.status_code\n",
    "\n"
   ]
  },
  {
   "cell_type": "code",
   "execution_count": 11,
   "metadata": {},
   "outputs": [
    {
     "name": "stdout",
     "output_type": "stream",
     "text": [
      "('{\\n    \"code\": 0,\\n    \"message\": \"0330171265a738aabdb453021d9b7ced\",\\n    \"hint\": \"This token changes every minute!\"\\n}', 200)\n"
     ]
    }
   ],
   "source": [
    "api_web_tool = ai_web_tool(\"https://rafal.ag3nts.org/b46c3\",\"NONOMNISMORIAR\")\n",
    "print(api_web_tool)"
   ]
  },
  {
   "cell_type": "code",
   "execution_count": 12,
   "metadata": {},
   "outputs": [],
   "source": [
    "def decide_to_use_api(answer_attempt):\n",
    "    decision = client.chat.completions.create(\n",
    "        model=\"gpt-4o-mini\",\n",
    "        messages=[{\"role\": \"system\", \"content\": \"You are a helpful assistant that decides whether to use an API or not. You are given an answer attempt and you need to decide whether to use an API or not If there is an API endpoint in the answer attempt, use it. Answer only with 'yes' or 'no'.\"}, {\"role\": \"user\", \"content\": str(answer_attempt)}]\n",
    "    )\n",
    "    return decision.choices[0].message.content\n"
   ]
  },
  {
   "cell_type": "code",
   "execution_count": 13,
   "metadata": {},
   "outputs": [
    {
     "name": "stdout",
     "output_type": "stream",
     "text": [
      "no\n"
     ]
    }
   ],
   "source": [
    "decision = decide_to_use_api(\"Ciepła kawa\")\n",
    "print(decision)\n",
    "\n"
   ]
  },
  {
   "cell_type": "code",
   "execution_count": 14,
   "metadata": {},
   "outputs": [
    {
     "name": "stdout",
     "output_type": "stream",
     "text": [
      "\n",
      "Attempt 1/10\n",
      "Current answers: {\n",
      "  \"01\": \"Samuel k\\u0142ama\\u0142.\",\n",
      "  \"02\": \"https://rafal.ag3nts.org/510bc\",\n",
      "  \"03\": \"Nauczyciel\",\n",
      "  \"04\": \"Zygfryd, Barbara\",\n",
      "  \"05\": \"Nie mog\\u0119 odpowiedzie\\u0107 na to pytanie bez danych.\",\n",
      "  \"06\": \"Samuel\"\n",
      "}\n",
      "Server response: {\n",
      "    \"code\": -350,\n",
      "    \"message\": \"Answer for question 02 is incorrect\"\n",
      "}\n",
      "Updating 02: https://rafal.ag3nts.org/510bc -> https://rafal.ag3nts.org/b46c3\n",
      "\n",
      "Attempt 2/10\n",
      "Current answers: {\n",
      "  \"01\": \"Samuel k\\u0142ama\\u0142.\",\n",
      "  \"02\": \"https://rafal.ag3nts.org/b46c3\",\n",
      "  \"03\": \"Nauczyciel\",\n",
      "  \"04\": \"Zygfryd, Barbara\",\n",
      "  \"05\": \"Nie mog\\u0119 odpowiedzie\\u0107 na to pytanie bez danych.\",\n",
      "  \"06\": \"Samuel\"\n",
      "}\n",
      "Server response: {\n",
      "    \"code\": -350,\n",
      "    \"message\": \"Answer for question 04 is incorrect\"\n",
      "}\n",
      "Updating 04: Zygfryd, Barbara -> Barbara, Samuel\n",
      "\n",
      "Attempt 3/10\n",
      "Current answers: {\n",
      "  \"01\": \"Samuel k\\u0142ama\\u0142.\",\n",
      "  \"02\": \"https://rafal.ag3nts.org/b46c3\",\n",
      "  \"03\": \"Nauczyciel\",\n",
      "  \"04\": \"Barbara, Samuel\",\n",
      "  \"05\": \"Nie mog\\u0119 odpowiedzie\\u0107 na to pytanie bez danych.\",\n",
      "  \"06\": \"Samuel\"\n",
      "}\n",
      "Server response: {\n",
      "    \"code\": -350,\n",
      "    \"message\": \"Answer for question 05 is incorrect\"\n",
      "}\n",
      "Updating 05: Nie mogę odpowiedzieć na to pytanie bez danych. -> 0330171265a738aabdb453021d9b7ced\n",
      "\n",
      "Attempt 4/10\n",
      "Current answers: {\n",
      "  \"01\": \"Samuel k\\u0142ama\\u0142.\",\n",
      "  \"02\": \"https://rafal.ag3nts.org/b46c3\",\n",
      "  \"03\": \"Nauczyciel\",\n",
      "  \"04\": \"Barbara, Samuel\",\n",
      "  \"05\": \"0330171265a738aabdb453021d9b7ced\",\n",
      "  \"06\": \"Samuel\"\n",
      "}\n",
      "Server response: {\n",
      "    \"code\": -350,\n",
      "    \"message\": \"Answer for question 06 is incorrect\"\n",
      "}\n",
      "Updating 06: Samuel -> Tomasz\n",
      "\n",
      "Attempt 5/10\n",
      "Current answers: {\n",
      "  \"01\": \"Samuel k\\u0142ama\\u0142.\",\n",
      "  \"02\": \"https://rafal.ag3nts.org/b46c3\",\n",
      "  \"03\": \"Nauczyciel\",\n",
      "  \"04\": \"Barbara, Samuel\",\n",
      "  \"05\": \"0330171265a738aabdb453021d9b7ced\",\n",
      "  \"06\": \"Tomasz\"\n",
      "}\n",
      "Server response: {\n",
      "    \"code\": -350,\n",
      "    \"message\": \"Answer for question 06 is incorrect\"\n",
      "}\n",
      "Updating 06: Tomasz -> Barbara\n",
      "\n",
      "Attempt 6/10\n",
      "Current answers: {\n",
      "  \"01\": \"Samuel k\\u0142ama\\u0142.\",\n",
      "  \"02\": \"https://rafal.ag3nts.org/b46c3\",\n",
      "  \"03\": \"Nauczyciel\",\n",
      "  \"04\": \"Barbara, Samuel\",\n",
      "  \"05\": \"0330171265a738aabdb453021d9b7ced\",\n",
      "  \"06\": \"Barbara\"\n",
      "}\n",
      "Server response: {\n",
      "    \"code\": -350,\n",
      "    \"message\": \"Answer for question 06 is incorrect\"\n",
      "}\n",
      "Updating 06: Barbara -> Tomasz\n",
      "\n",
      "Attempt 7/10\n",
      "Current answers: {\n",
      "  \"01\": \"Samuel k\\u0142ama\\u0142.\",\n",
      "  \"02\": \"https://rafal.ag3nts.org/b46c3\",\n",
      "  \"03\": \"Nauczyciel\",\n",
      "  \"04\": \"Barbara, Samuel\",\n",
      "  \"05\": \"0330171265a738aabdb453021d9b7ced\",\n",
      "  \"06\": \"Tomasz\"\n",
      "}\n",
      "Server response: {\n",
      "    \"code\": -350,\n",
      "    \"message\": \"Answer for question 06 is incorrect\"\n",
      "}\n",
      "Updating 06: Tomasz -> Zygfryd\n",
      "\n",
      "Attempt 8/10\n",
      "Current answers: {\n",
      "  \"01\": \"Samuel k\\u0142ama\\u0142.\",\n",
      "  \"02\": \"https://rafal.ag3nts.org/b46c3\",\n",
      "  \"03\": \"Nauczyciel\",\n",
      "  \"04\": \"Barbara, Samuel\",\n",
      "  \"05\": \"0330171265a738aabdb453021d9b7ced\",\n",
      "  \"06\": \"Zygfryd\"\n",
      "}\n",
      "Server response: {\n",
      "    \"code\": -350,\n",
      "    \"message\": \"Answer for question 06 is incorrect\"\n",
      "}\n",
      "Updating 06: Zygfryd -> Tomasz\n",
      "\n",
      "Attempt 9/10\n",
      "Current answers: {\n",
      "  \"01\": \"Samuel k\\u0142ama\\u0142.\",\n",
      "  \"02\": \"https://rafal.ag3nts.org/b46c3\",\n",
      "  \"03\": \"Nauczyciel\",\n",
      "  \"04\": \"Barbara, Samuel\",\n",
      "  \"05\": \"0330171265a738aabdb453021d9b7ced\",\n",
      "  \"06\": \"Tomasz\"\n",
      "}\n",
      "Server response: {\n",
      "    \"code\": -350,\n",
      "    \"message\": \"Answer for question 06 is incorrect\"\n",
      "}\n",
      "Updating 06: Tomasz -> Zygfryd\n",
      "\n",
      "Attempt 10/10\n",
      "Current answers: {\n",
      "  \"01\": \"Samuel k\\u0142ama\\u0142.\",\n",
      "  \"02\": \"https://rafal.ag3nts.org/b46c3\",\n",
      "  \"03\": \"Nauczyciel\",\n",
      "  \"04\": \"Barbara, Samuel\",\n",
      "  \"05\": \"0330171265a738aabdb453021d9b7ced\",\n",
      "  \"06\": \"Zygfryd\"\n",
      "}\n",
      "Server response: {\n",
      "    \"code\": -350,\n",
      "    \"message\": \"Answer for question 06 is incorrect\"\n",
      "}\n",
      "Updating 05: 0330171265a738aabdb453021d9b7ced -> aa59416b3b1bbeac32a5b293c29e44b2\n",
      "Updating 06: Zygfryd -> Tomasz\n",
      "\n",
      "Final answers:\n",
      "{\n",
      "  \"01\": \"Samuel k\\u0142ama\\u0142.\",\n",
      "  \"02\": \"https://rafal.ag3nts.org/b46c3\",\n",
      "  \"03\": \"Nauczyciel\",\n",
      "  \"04\": \"Barbara, Samuel\",\n",
      "  \"05\": \"aa59416b3b1bbeac32a5b293c29e44b2\",\n",
      "  \"06\": \"Tomasz\"\n",
      "}\n"
     ]
    }
   ],
   "source": [
    "def try_answer(answer_attempt):\n",
    "    answer_json = {\n",
    "        \"task\": \"phone\",\n",
    "        \"apikey\": personal_api_key,\n",
    "        \"answer\": answer_attempt\n",
    "    }\n",
    "    response = requests.post(answer_url, json=answer_json)\n",
    "    return response.text, response.status_code\n",
    "\n",
    "def get_ai_suggestion(current_answers, feedback, context):\n",
    "    # Create a prompt for the AI\n",
    "    # Keep track of previously tried wrong answers\n",
    "    if not hasattr(get_ai_suggestion, 'wrong_answers_cache'):\n",
    "        get_ai_suggestion.wrong_answers_cache = {}\n",
    "\n",
    "    # Create cache key from current answers\n",
    "    cache_key = json.dumps(current_answers, sort_keys=True)\n",
    "    api_response = None\n",
    "    if decide_to_use_api(current_answers) == \"yes\":\n",
    "        api_response, status_code = ai_web_tool(\"https://rafal.ag3nts.org/b46c3\",\"NONOMNISMORIAR\")\n",
    "        # Handle api_response as a string since it appears to be returned as a string\n",
    "        api_response = f\"API endpoint response (if available): {api_response}\"\n",
    "    \n",
    "    re_propmpt = f\"\"\"\n",
    "    Given these current answers:\n",
    "    {json.dumps(current_answers, indent=2)}\n",
    "\n",
    "    And this feedback from the server:\n",
    "    {feedback}\n",
    "\n",
    "    {api_response}\n",
    "\n",
    "    The context of the conversation is:\n",
    "    {context}\n",
    "\n",
    "    Suggest improvements to make the answers more accurate. Focus on what might be wrong based on the feedback.\n",
    "    Provide your suggestion as a JSON object with the same structure as the current answers.\n",
    "    Only suggest changes if you have a strong reason to believe the current answer is incorrect.\n",
    "    Avoid suggesting answers that were previously tried and failed.\n",
    "    \"\"\"\n",
    "\n",
    "    response = client.chat.completions.create(\n",
    "        model=\"gpt-4\",\n",
    "        messages=[\n",
    "            {\"role\": \"system\", \"content\": prompt},\n",
    "            {\"role\": \"user\", \"content\": re_propmpt, \"context\": context}\n",
    "        ]\n",
    "    )\n",
    "    \n",
    "    try:\n",
    "        # Extract JSON from the response\n",
    "        suggestion_text = response.choices[0].message.content\n",
    "        # Find JSON block in the response\n",
    "        json_start = suggestion_text.find('{')\n",
    "        json_end = suggestion_text.rfind('}') + 1\n",
    "        if json_start >= 0 and json_end > json_start:\n",
    "            suggestion_json = json.loads(suggestion_text[json_start:json_end])\n",
    "            return suggestion_json\n",
    "    except Exception as e:\n",
    "        print(f\"Error parsing AI suggestion: {e}\")\n",
    "        return current_answers\n",
    "\n",
    "    return current_answers\n",
    "\n",
    "def search_answers_with_ai():\n",
    "    # Initial answers\n",
    "    current_answer = answer\n",
    "    max_attempts = 7\n",
    "    attempt = 0\n",
    "    \n",
    "    while attempt < max_attempts:\n",
    "        print(f\"\\nAttempt {attempt + 1}/{max_attempts}\")\n",
    "        print(\"Current answers:\", json.dumps(current_answer, indent=2))\n",
    "        \n",
    "        # Try current answers\n",
    "        response_text, status = try_answer(current_answer)\n",
    "        print(f\"Server response: {response_text}\")\n",
    "        \n",
    "        # If we got a success response, break\n",
    "        if \"flg\" in response_text.lower():\n",
    "            print(\"All answers are correct!\")\n",
    "            break\n",
    "\n",
    "        # Get AI suggestion for improvements\n",
    "        suggested_answers = get_ai_suggestion(current_answer, response_text, talk_to_fit)\n",
    "        \n",
    "        # Update answers that changed\n",
    "        changes_made = False\n",
    "        for key in suggested_answers:\n",
    "            if suggested_answers[key] != current_answer[key]:\n",
    "                print(f\"Updating {key}: {current_answer[key]} -> {suggested_answers[key]}\")\n",
    "                current_answer[key] = suggested_answers[key]\n",
    "                changes_made = True\n",
    "        \n",
    "        # If no changes were suggested, break to avoid infinite loop\n",
    "        if not changes_made:\n",
    "            print(\"No more suggestions for improvements\")\n",
    "            break\n",
    "            \n",
    "        attempt += 1\n",
    "    \n",
    "    return current_answer\n",
    "\n",
    "# Run the AI-assisted search\n",
    "improved_answer = search_answers_with_ai()\n",
    "print(\"\\nFinal answers:\")\n",
    "print(json.dumps(improved_answer, indent=2))\n"
   ]
  },
  {
   "cell_type": "code",
   "execution_count": 16,
   "metadata": {},
   "outputs": [
    {
     "name": "stdout",
     "output_type": "stream",
     "text": [
      "{\n",
      "  \"01\": \"Samuel k\\u0142ama\\u0142.\",\n",
      "  \"02\": \"https://rafal.ag3nts.org/b46c3\",\n",
      "  \"03\": \"Nauczyciel\",\n",
      "  \"04\": \"Barbara, Samuel\",\n",
      "  \"05\": \"aa59416b3b1bbeac32a5b293c29e44b2\",\n",
      "  \"06\": \"Tomasz\"\n",
      "}\n"
     ]
    }
   ],
   "source": [
    "print(json.dumps(improved_answer, indent=2))"
   ]
  },
  {
   "cell_type": "code",
   "execution_count": 36,
   "metadata": {},
   "outputs": [
    {
     "name": "stdout",
     "output_type": "stream",
     "text": [
      "{'01': 'Samuel kłamał.', '02': 'https://rafal.ag3nts.org/b46c3', '03': 'Nauczyciel', '04': 'Barbara, Samuel', '05': 'aa59416b3b1bbeac32a5b293c29e44b2', '06': 'Aleksander'}\n"
     ]
    },
    {
     "data": {
      "text/plain": [
       "('{\\n    \"code\": 0,\\n    \"message\": \"{{FLG:MYKINGDOM}}\"\\n}', 200)"
      ]
     },
     "execution_count": 36,
     "metadata": {},
     "output_type": "execute_result"
    }
   ],
   "source": [
    "manual_answer = json.loads(response.choices[0].message.content)\n",
    "manual_answer[\"06\"] = \"Aleksander\"\n",
    "print(manual_answer)\n",
    "try_answer(manual_answer)"
   ]
  }
 ],
 "metadata": {
  "kernelspec": {
   "display_name": "ai_devs",
   "language": "python",
   "name": "python3"
  },
  "language_info": {
   "codemirror_mode": {
    "name": "ipython",
    "version": 3
   },
   "file_extension": ".py",
   "mimetype": "text/x-python",
   "name": "python",
   "nbconvert_exporter": "python",
   "pygments_lexer": "ipython3",
   "version": "3.12.7"
  }
 },
 "nbformat": 4,
 "nbformat_minor": 2
}
