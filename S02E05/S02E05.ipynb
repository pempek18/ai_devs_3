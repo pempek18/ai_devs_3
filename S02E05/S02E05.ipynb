{
 "cells": [
  {
   "cell_type": "code",
   "execution_count": 1,
   "metadata": {},
   "outputs": [],
   "source": [
    "import os\n",
    "import openai\n",
    "import groq\n",
    "import requests\n",
    "import json\n",
    "from dotenv import load_dotenv"
   ]
  },
  {
   "cell_type": "code",
   "execution_count": 4,
   "metadata": {},
   "outputs": [],
   "source": [
    "load_dotenv()\n",
    "\n",
    "openai_api_key = os.getenv(\"OPENAI_API_KEY\")\n",
    "personal_api_key = os.getenv(\"PERSONAL_API_KEY\")\n",
    "groq_api_key = os.getenv(\"GROQ_API_KEY\")\n",
    "\n",
    "\n",
    "\n",
    "with open('context.md', 'r') as file:\n",
    "    context = file.read()"
   ]
  },
  {
   "cell_type": "code",
   "execution_count": 5,
   "metadata": {},
   "outputs": [],
   "source": [
    "# Initialize OpenAI client\n",
    "client = openai.OpenAI(api_key=openai_api_key)"
   ]
  },
  {
   "cell_type": "code",
   "execution_count": 59,
   "metadata": {},
   "outputs": [],
   "source": [
    "def encode_image_to_base64(image_path):\n",
    "    import base64\n",
    "    with open(image_path, \"rb\") as image_file:\n",
    "        return base64.b64encode(image_file.read()).decode('utf-8')\n",
    "\n",
    "#1 load the content of voice file to ai and translate to text and save to file\n",
    "def transcribe_audio(audio_file_path: str):\n",
    "    groq_client = groq.Groq(api_key=groq_api_key)\n",
    "    response = groq_client.audio.transcriptions.create(\n",
    "        file=(audio_file_path, open(audio_file_path, \"rb\")),\n",
    "        language=\"pl\",\n",
    "        model=\"whisper-large-v3\"\n",
    "    )\n",
    "    return response.text\n",
    "\n",
    "def save_audio_link_to_file(link: str, out_path : str):\n",
    "    audio_response = requests.get(link)\n",
    "    with open(out_path, \"wb\") as file:\n",
    "        file.write(audio_response.content)"
   ]
  },
  {
   "cell_type": "code",
   "execution_count": 64,
   "metadata": {},
   "outputs": [
    {
     "name": "stdout",
     "output_type": "stream",
     "text": [
      "QUESTIONS:\n",
      "01=jakiego owocu użyto podczas pierwszej próby transmisji materii w czasie?\n",
      "02=Na rynku którego miasta wykonano testową fotografię użytą podczas testu przesyłania multimediów?\n",
      "03=Co Bomba chciał znaleźć w Grudziądzu?\n",
      "04=Resztki jakiego dania zostały pozostawione przez Rafała?\n",
      "05=Od czego pochodzą litery BNW w nazwie nowego modelu językowego?\n",
      "\n",
      "01=jakiego owocu użyto podczas pierwszej próby transmisji materii w czasie?\n",
      "02=Na rynku którego miasta wykonano testową fotografię użytą podczas testu przesyłania multimediów?\n",
      "03=Co Bomba chciał znaleźć w Grudziądzu?\n",
      "04=Resztki jakiego dania zostały pozostawione przez Rafała?\n",
      "05=Od czego pochodzą litery BNW w nazwie nowego modelu językowego?\n",
      "\n"
     ]
    }
   ],
   "source": [
    "task_url = f\"https://centrala.ag3nts.org/data/{personal_api_key}/arxiv.txt\"\n",
    "task = requests.get(task_url)\n",
    "questions = []\n",
    "print(\"QUESTIONS:\")\n",
    "print(task.text)\n",
    "for question in task.text.split(\"\\n\"):\n",
    "    questions.append(question)\n",
    "    print(question)"
   ]
  },
  {
   "cell_type": "code",
   "execution_count": 26,
   "metadata": {},
   "outputs": [],
   "source": [
    "import requests\n",
    "\n",
    "response_req = requests.get(\"https://centrala.ag3nts.org/dane/arxiv-draft.html\")\n",
    "html_content = response_req.text"
   ]
  },
  {
   "cell_type": "code",
   "execution_count": 30,
   "metadata": {},
   "outputs": [],
   "source": [
    "if not os.path.exists(\"article.md\"):\n",
    "    with open(\"article.md\", \"w\") as file:\n",
    "        file.write(html_content)"
   ]
  },
  {
   "cell_type": "code",
   "execution_count": 35,
   "metadata": {},
   "outputs": [
    {
     "name": "stdout",
     "output_type": "stream",
     "text": [
      "\n",
      "{\n",
      "  \"media\": [\n",
      "    {\n",
      "      \"link\": \"https://centrala.ag3nts.org/dane/i/rynek.png\",\n",
      "      \"description\": \"Original photograph capturing a sunset view from the market towards a church.\"\n",
      "    },\n",
      "    {\n",
      "      \"link\": \"https://centrala.ag3nts.org/dane/i/rynek_glitch.png\",\n",
      "      \"description\": \"Recreated image showing slight damage and artifacts in the transmitted photo of the sunset.\"\n",
      "    },\n",
      "    {\n",
      "      \"link\": \"https://centrala.ag3nts.org/dane/i/fruit01.png\",\n",
      "      \"description\": \"Image of the fruit before temporal transport.\"\n",
      "    },\n",
      "    {\n",
      "      \"link\": \"https://centrala.ag3nts.org/dane/i/fruit02.png\",\n",
      "      \"description\": \"Image of the fruit after temporal transport, now missing its seeds.\"\n",
      "    },\n",
      "    {\n",
      "      \"link\": \"https://centrala.ag3nts.org/dane/i/strangefruit.png\",\n",
      "      \"description\": \"An unexpected merged fruit resulting from the transmission of two different fruits.\"\n",
      "    },\n",
      "    {\n",
      "      \"link\": \"https://centrala.ag3nts.org/dane/i/resztki.png\",\n",
      "      \"description\": \"Remnants of food found near the temporal chamber, believed to be left by the researcher Rafał Bomba.\"\n",
      "    },\n",
      "    {\n",
      "      \"link\": \"https://centrala.ag3nts.org/dane/i/rafal_dyktafon.mp3\",\n",
      "      \"description\": \"Audio recording found on a dictaphone, contents unknown; possibly related to the incident involving Rafał Bomba.\"\n",
      "    }\n",
      "  ]\n",
      "}\n",
      "\n"
     ]
    }
   ],
   "source": [
    "if not os.path.exists(\"article.json\"):\n",
    "    response = client.chat.completions.create(\n",
    "        model=\"gpt-4o-mini\",\n",
    "        messages=[  \n",
    "            {\n",
    "                \"role\": \"system\",\n",
    "                \"content\": \"You are a helpful assistant.\"\n",
    "            },\n",
    "            {\n",
    "                \"role\": \"user\",\n",
    "                \"content\": f\"return all picutes and audio link included in the data below with short description of the content of the picture or audio return in json format with keys link, description {article_md}\"\n",
    "            }\n",
    "        ],\n",
    "        max_tokens=3000\n",
    "    )\n",
    "    article_json = json.loads(response.choices[0].message.content.replace(\"```json\", \"\").replace(\"```\", \"\"))\n",
    "    with open(\"article.json\", \"w\") as file:\n",
    "        file.write(article_json)\n",
    "    print(article_json)"
   ]
  },
  {
   "cell_type": "code",
   "execution_count": 60,
   "metadata": {},
   "outputs": [
    {
     "name": "stdout",
     "output_type": "stream",
     "text": [
      "picutre https://centrala.ag3nts.org/dane/i/rynek.png already exists\n",
      "picutre https://centrala.ag3nts.org/dane/i/rynek_glitch.png already exists\n",
      "picutre https://centrala.ag3nts.org/dane/i/fruit01.png already exists\n",
      "picutre https://centrala.ag3nts.org/dane/i/fruit02.png already exists\n",
      "picutre https://centrala.ag3nts.org/dane/i/strangefruit.png already exists\n",
      "picutre https://centrala.ag3nts.org/dane/i/resztki.png already exists\n",
      " No i co teraz? No to teraz mi już nie powstrzymacie, jesteśmy tutaj sami. I trzeba tylko wykonać plan. Jak ja się do tego w ogóle zmieszczę? W sumie dobrze by zaplanowałem powszerzenie. Adam miał rację. Jedna informacja powinna się na w czasie. Jedna informacja. Dwa lata wcześniej posunie całe badania do przodu i wtedy już będzie z górki. Tak, i na odwagę. Z truskawką mowa nie wychło. Ale z ludźmi, no to czy... Dobra, jedna myfa, mowa pewnie wywoła. Ale Adam mówi, że to jest stabilne. Że to się wszystko uda. Trzeba tylko cofnąć się w czasie jeden i jedyny raz. Do Grudziądza. Znaleźć hotel. Ile mogą być hoteli w Grudziądzu? Ja nie wiem, ale na pewno znajdę jeden. I potem czekać. Spokojnie czekać dwa lata. Tyle jestem w stanie zrobić. Reszty mam zapisane na kartce. No to co? No to siup, wpisujemy. Czekajcie. Koordynaty są grudziądz. Dobra. Batman nie wchodzi. A, jest w menu. Człowiek. Dobra. Wszystko, jeszcze grzik. A, wezmę ze sobą trochę. Dobra, jestem gotowy. Jeszcze jedno na odwagę. Tak na czyśle to by nie przednie. Dobra. Naciskamy. Czekamy. No licz szybciej, ile można czekać. Człowieku. Jestem gotowy. No to bią.\n"
     ]
    }
   ],
   "source": [
    "for item in article_json[\"media\"]:   \n",
    "    if item[\"link\"].endswith(\".png\") and not os.path.exists(f\"./media_desc/{item['link'].split('/')[-1]}.txt\"):\n",
    "        print(item[\"link\"])\n",
    "        # Create message with image\n",
    "        response = client.chat.completions.create(\n",
    "            model=\"gpt-4o\",\n",
    "            messages=[\n",
    "                {\n",
    "                    \"role\": \"system\",\n",
    "                    \"content\": \"You are an expert in image analysis. You are given an image and you need to respond with description of the content of the picture. Look at the given context of the picture and describe it in detail.\"\n",
    "                },\n",
    "                {\n",
    "                    \"role\": \"user\",\n",
    "                    \"content\": [\n",
    "                        {\n",
    "                        \"type\": \"image_url\",\n",
    "                        \"image_url\": {\n",
    "                            \"url\": item[\"link\"]\n",
    "                        }\n",
    "                    },\n",
    "                    {\n",
    "                        \"type\": \"text\",     \n",
    "                        \"text\": f\"context of the picture {item['description']}\"\n",
    "                    }\n",
    "                ]\n",
    "            }\n",
    "        ],\n",
    "        max_tokens=3000\n",
    "        )   \n",
    "        print(response.choices[0].message.content)\n",
    "        with open(f\"media_desc/{item['link'].split('/')[-1]}.txt\", \"w\") as file:\n",
    "            file.write(response.choices[0].message.content)\n",
    "    elif item[\"link\"].endswith(\".mp3\") and not os.path.exists(f\"./media_desc/{item['link'].split('/')[-1]}.txt\"):\n",
    "        if not os.path.exists(\"./media/audio.mp3\"):\n",
    "            save_audio_link_to_file(item[\"link\"], \"./media/audio.mp3\")\n",
    "        audio_text = transcribe_audio(\"./media/audio.mp3\")    \n",
    "        print(audio_text)\n",
    "        with open(f\"media_desc/{item['link'].split('/')[-1]}.txt\", \"w\") as file:\n",
    "            file.write(audio_text)\n",
    "    else:\n",
    "        print(f\"picutre {item['link']} already exists\")"
   ]
  },
  {
   "cell_type": "code",
   "execution_count": null,
   "metadata": {},
   "outputs": [],
   "source": []
  },
  {
   "cell_type": "code",
   "execution_count": 61,
   "metadata": {},
   "outputs": [],
   "source": [
    "with open(\"article.md\", \"r\") as file:\n",
    "    article_md = file.read()\n",
    "    for item in article_json[\"media\"]:\n",
    "        if item[\"link\"].endswith(\".png\") or item[\"link\"].endswith(\".mp3\"):\n",
    "            with open(f\"media_desc/{item['link'].split('/')[-1]}.txt\", \"r\") as f:\n",
    "                article_md = article_md.replace(item[\"link\"], f.read())\n",
    "with open(\"article_with_desc.md\", \"w\") as file:\n",
    "    file.write(article_md)  "
   ]
  },
  {
   "cell_type": "code",
   "execution_count": 77,
   "metadata": {},
   "outputs": [
    {
     "name": "stdout",
     "output_type": "stream",
     "text": [
      "['01=jakiego owocu użyto podczas pierwszej próby transmisji materii w czasie?', '02=Na rynku którego miasta wykonano testową fotografię użytą podczas testu przesyłania multimediów?', '03=Co Bomba chciał znaleźć w Grudziądzu?', '04=Resztki jakiego dania zostały pozostawione przez Rafała?', '05=Od czego pochodzą litery BNW w nazwie nowego modelu językowego?', '']\n"
     ]
    }
   ],
   "source": [
    "print(questions)"
   ]
  },
  {
   "cell_type": "code",
   "execution_count": 78,
   "metadata": {},
   "outputs": [
    {
     "name": "stdout",
     "output_type": "stream",
     "text": [
      "01=Podczas pierwszej próby transmisji materii w czasie użyto owocu truskawki.\n",
      "\n",
      "02=Testową fotografię użytą podczas testu przesyłania multimediów wykonano na rynku Krakowa.\n",
      "\n",
      "03=Bomba chciał znaleźć hotel w Grudziądzu.\n",
      "\n",
      "04=Rafał pozostawił resztki pizzy na stole przy maszynie.\n",
      "\n",
      "05=Litery BNW w nazwie nowego modelu językowego pochodzą od „Brave New World” (Nowy Wspaniały Świat).\n"
     ]
    }
   ],
   "source": [
    "response = client.chat.completions.create(\n",
    "    model=\"gpt-4o\",\n",
    "    messages=[\n",
    "        {\n",
    "            \"role\": \"system\", # Assistant role is for responses from the AI assistant\n",
    "            \"content\": context   # System role is for defining core behavior/instructions\n",
    "        },\n",
    "        \n",
    "        {\n",
    "            \"role\": \"assistant\",\n",
    "            \"content\": f\"{article_md}\"\n",
    "        },\n",
    "        {\n",
    "            \"role\": \"user\",\n",
    "            \"content\": task.text\n",
    "        }\n",
    "    ],\n",
    "    max_tokens=3000\n",
    ")\n",
    "print(response.choices[0].message.content)"
   ]
  },
  {
   "cell_type": "code",
   "execution_count": 91,
   "metadata": {},
   "outputs": [
    {
     "name": "stdout",
     "output_type": "stream",
     "text": [
      "{'01': 'Podczas pierwszej próby transmisji materii w czasie użyto owocu truskawki.', '02': 'Testową fotografię użytą podczas testu przesyłania multimediów wykonano na rynku Krakowa.', '03': 'Bomba chciał znaleźć hotel w Grudziądzu.', '04': 'Rafał pozostawił resztki pizzy na stole przy maszynie.', '05': 'Litery BNW w nazwie nowego modelu językowego pochodzą od „Brave New World” (Nowy Wspaniały Świat).'}\n"
     ]
    }
   ],
   "source": [
    "response_sep_lines = response.choices[0].message.content.split(\"\\n\\n\")\n",
    "answers = {}\n",
    "for lines in response_sep_lines:\n",
    "    response_sep_id, response_sep_answer = lines.split(\"=\")\n",
    "    answers[response_sep_id] = response_sep_answer\n",
    "print(answers)"
   ]
  },
  {
   "cell_type": "code",
   "execution_count": 94,
   "metadata": {},
   "outputs": [],
   "source": [
    "\n",
    "with open(\"answers.json\", \"w\") as file:\n",
    "    file.write(json.dumps(answers).encode('utf-8').decode('unicode_escape'))"
   ]
  },
  {
   "cell_type": "code",
   "execution_count": 95,
   "metadata": {},
   "outputs": [],
   "source": [
    "answer_json = {\n",
    "    \"task\": \"arxiv\",\n",
    "    \"apikey\": personal_api_key,\n",
    "    \"answer\": answers\n",
    "}"
   ]
  },
  {
   "cell_type": "code",
   "execution_count": 96,
   "metadata": {},
   "outputs": [
    {
     "name": "stdout",
     "output_type": "stream",
     "text": [
      "b'{\"task\": \"arxiv\", \"apikey\": \"1400cbf0-b7dd-49ab-9342-6ad8fd26ba69\", \"answer\": {\"01\": \"Podczas pierwszej pr\\\\u00f3by transmisji materii w czasie u\\\\u017cyto owocu truskawki.\", \"02\": \"Testow\\\\u0105 fotografi\\\\u0119 u\\\\u017cyt\\\\u0105 podczas testu przesy\\\\u0142ania multimedi\\\\u00f3w wykonano na rynku Krakowa.\", \"03\": \"Bomba chcia\\\\u0142 znale\\\\u017a\\\\u0107 hotel w Grudzi\\\\u0105dzu.\", \"04\": \"Rafa\\\\u0142 pozostawi\\\\u0142 resztki pizzy na stole przy maszynie.\", \"05\": \"Litery BNW w nazwie nowego modelu j\\\\u0119zykowego pochodz\\\\u0105 od \\\\u201eBrave New World\\\\u201d (Nowy Wspania\\\\u0142y \\\\u015awiat).\"}}'\n",
      "Status Code: 200\n",
      "Response Body: {\n",
      "    \"code\": 0,\n",
      "    \"message\": \"{{FLG:BADANIA}}\"\n",
      "}\n"
     ]
    }
   ],
   "source": [
    "answer_url = \"https://centrala.ag3nts.org/report\"\n",
    "answer_response = requests.post(answer_url, json=answer_json)\n",
    "print(answer_response.request.body)  # Displays the request body\n",
    "\n",
    "# Assuming `login_response` is the response object from the login request\n",
    "print(\"Status Code:\", answer_response.status_code)  # Displays the status code (e.g., 200)\n",
    "print(\"Response Body:\", answer_response.text.encode('utf-8').decode('unicode-escape'))       # Displays the response content as a string"
   ]
  }
 ],
 "metadata": {
  "kernelspec": {
   "display_name": "ai_devs",
   "language": "python",
   "name": "python3"
  },
  "language_info": {
   "codemirror_mode": {
    "name": "ipython",
    "version": 3
   },
   "file_extension": ".py",
   "mimetype": "text/x-python",
   "name": "python",
   "nbconvert_exporter": "python",
   "pygments_lexer": "ipython3",
   "version": "3.12.7"
  }
 },
 "nbformat": 4,
 "nbformat_minor": 2
}
