{
 "cells": [
  {
   "cell_type": "code",
   "execution_count": 2,
   "metadata": {},
   "outputs": [],
   "source": [
    "import os\n",
    "import openai\n",
    "import groq\n",
    "import requests\n",
    "import json\n",
    "from dotenv import load_dotenv"
   ]
  },
  {
   "cell_type": "code",
   "execution_count": 3,
   "metadata": {},
   "outputs": [],
   "source": [
    "load_dotenv()\n",
    "\n",
    "openai_api_key = os.getenv(\"OPENAI_API_KEY\")\n",
    "personal_api_key = os.getenv(\"PERSONAL_API_KEY\")\n",
    "groq_api_key = os.getenv(\"GROQ_API_KEY\")"
   ]
  },
  {
   "cell_type": "code",
   "execution_count": 4,
   "metadata": {},
   "outputs": [],
   "source": [
    "# Initialize OpenAI client\n",
    "client = openai.OpenAI(api_key=openai_api_key)"
   ]
  },
  {
   "cell_type": "code",
   "execution_count": 5,
   "metadata": {},
   "outputs": [],
   "source": [
    "def encode_image_to_base64(image_path):\n",
    "    import base64\n",
    "    with open(image_path, \"rb\") as image_file:\n",
    "        return base64.b64encode(image_file.read()).decode('utf-8')\n",
    "\n",
    "#1 load the content of voice file to ai and translate to text and save to file\n",
    "def transcribe_audio(audio_file_path: str):\n",
    "    groq_client = groq.Groq(api_key=groq_api_key)\n",
    "    response = groq_client.audio.transcriptions.create(\n",
    "        file=(audio_file_path, open(audio_file_path, \"rb\")),\n",
    "        language=\"pl\",\n",
    "        model=\"whisper-large-v3\"\n",
    "    )\n",
    "    return response.text\n",
    "\n",
    "def save_audio_link_to_file(link: str, out_path : str):\n",
    "    audio_response = requests.get(link)\n",
    "    with open(out_path, \"wb\") as file:\n",
    "        file.write(audio_response.content)"
   ]
  },
  {
   "cell_type": "code",
   "execution_count": 58,
   "metadata": {},
   "outputs": [],
   "source": [
    "if not os.path.exists('context_base.md'):\n",
    "    context_base = \"<FACTS>\\n\"\n",
    "    context_base += \"{\\n\"\n",
    "    for file in os.listdir('../pliki_z_fabryki/facts'):\n",
    "        with open(f'../pliki_z_fabryki/facts/{file}', 'r') as file:\n",
    "            content = file.read()\n",
    "            context_base += \"{\\n\"\n",
    "            context_base += file.name[3:] + \" : \"\n",
    "            context_base += content\n",
    "            context_base += \"}\\n\"\n",
    "    context_base += \"}\\n\"        \n",
    "    context_base += \"</FACTS>\\n\"\n",
    "    context_base += \"<REPORTS>\\n\"\n",
    "    context_base += \"{\\n\"\n",
    "    for file in os.listdir('../pliki_z_fabryki'):\n",
    "        if file.endswith('.txt'):\n",
    "            with open(f'../pliki_z_fabryki/{file}', 'r') as file:\n",
    "                content = file.read()\n",
    "            context_base += \"{\\n\"\n",
    "            context_base += file.name[3:] + \" : \"\n",
    "            context_base += content\n",
    "            context_base += \"\\n}\\n\"\n",
    "    context_base += \"}\\n\"\n",
    "    context_base += \"</REPORTS>\\n\"\n",
    "    with open('context_base.md', 'w') as file:\n",
    "        file.write(context_base)"
   ]
  },
  {
   "cell_type": "code",
   "execution_count": 67,
   "metadata": {},
   "outputs": [],
   "source": [
    "with open('context.md', 'r') as file:\n",
    "    context = file.read()\n",
    "\n",
    "response = client.chat.completions.create(\n",
    "    model=\"gpt-4o\",\n",
    "    messages=[{\"role\": \"system\", \"content\": context},\n",
    "              {\"role\": \"user\", \"content\": \"Do każdego pliku raport wygeneruj słowa kluczowe w formie mianownika (czyli np. “sportowiec”, a nie “sportowcem”, “sportowców” itp.\"}]\n",
    ")\n",
    "answers = response.choices[0].message.content\n"
   ]
  },
  {
   "cell_type": "code",
   "execution_count": 68,
   "metadata": {},
   "outputs": [
    {
     "name": "stdout",
     "output_type": "stream",
     "text": [
      "{\n",
      "    \"2024-11-12_report-00-sektor_C4.txt\": \"Aleksander, Ragowski, nauczyciel, jednostka, kontrola\",\n",
      "    \"2024-11-12_report-01-sektor_A1.txt\": \"alarm, ruch, organiczny, zwierzyna, bezpieczny\",\n",
      "    \"2024-11-12_report-02-sektor_A3.txt\": \"obszar, patrol, nocny, cichy, aktywność\",\n",
      "    \"2024-11-12_report-03-sektor_A3.txt\": \"patrol, monitorowanie, czujniki, życie, organiczne, bez, rezultat\",\n",
      "    \"2024-11-12_report-04-sektor_B2.txt\": \"patrol, zachodni, anomalia, norma, sektor, bezpieczny\",\n",
      "    \"2024-11-12_report-05-sektor_C1.txt\": \"aktywnosć, organiczna, technologiczna, sensor, dźwiękowy, detektor, ruch\",\n",
      "    \"2024-11-12_report-06-sektor_C2.txt\": \"sektor, północno-zachodni, spokojny, temperatura, ruch\",\n",
      "    \"2024-11-12_report-07-sektor_C4.txt\": \"czujnik, dźwięk, ultradźwiękowy, sygnał, nadajnik, Barbara, Zawadzka, JavaScript, Python\",\n",
      "    \"2024-11-12_report-08-sektor_A1.txt\": \"monitoring, obszar, patrolowy, brak, ruch, cisza\",\n",
      "    \"2024-11-12_report-09-sektor_C2.txt\": \"patrol, peryferia, zachodnie, czujnik, sygnał, anomalia\"\n",
      "}\n"
     ]
    }
   ],
   "source": [
    "print(answers)\n",
    "answers_json = json.loads(answers.replace(\"```json\\n\", \"\").replace(\"```\", \"\").replace(\"],\",\"],\\n\"))\n",
    "with open('answers.json', 'w', encoding='utf-8') as f:\n",
    "    json.dump(answers_json, f, ensure_ascii=False, indent=4)"
   ]
  },
  {
   "cell_type": "code",
   "execution_count": 69,
   "metadata": {},
   "outputs": [],
   "source": [
    "answer_json = {\n",
    "    \"task\": \"dokumenty\",\n",
    "    \"apikey\": personal_api_key,\n",
    "    \"answer\": answers_json\n",
    "}"
   ]
  },
  {
   "cell_type": "code",
   "execution_count": 70,
   "metadata": {},
   "outputs": [
    {
     "name": "stdout",
     "output_type": "stream",
     "text": [
      "b'{\"task\": \"dokumenty\", \"apikey\": \"1400cbf0-b7dd-49ab-9342-6ad8fd26ba69\", \"answer\": {\"2024-11-12_report-00-sektor_C4.txt\": \"Aleksander, Ragowski, nauczyciel, jednostka, kontrola\", \"2024-11-12_report-01-sektor_A1.txt\": \"alarm, ruch, organiczny, zwierzyna, bezpieczny\", \"2024-11-12_report-02-sektor_A3.txt\": \"obszar, patrol, nocny, cichy, aktywno\\\\u015b\\\\u0107\", \"2024-11-12_report-03-sektor_A3.txt\": \"patrol, monitorowanie, czujniki, \\\\u017cycie, organiczne, bez, rezultat\", \"2024-11-12_report-04-sektor_B2.txt\": \"patrol, zachodni, anomalia, norma, sektor, bezpieczny\", \"2024-11-12_report-05-sektor_C1.txt\": \"aktywnos\\\\u0107, organiczna, technologiczna, sensor, d\\\\u017awi\\\\u0119kowy, detektor, ruch\", \"2024-11-12_report-06-sektor_C2.txt\": \"sektor, p\\\\u00f3\\\\u0142nocno-zachodni, spokojny, temperatura, ruch\", \"2024-11-12_report-07-sektor_C4.txt\": \"czujnik, d\\\\u017awi\\\\u0119k, ultrad\\\\u017awi\\\\u0119kowy, sygna\\\\u0142, nadajnik, Barbara, Zawadzka, JavaScript, Python\", \"2024-11-12_report-08-sektor_A1.txt\": \"monitoring, obszar, patrolowy, brak, ruch, cisza\", \"2024-11-12_report-09-sektor_C2.txt\": \"patrol, peryferia, zachodnie, czujnik, sygna\\\\u0142, anomalia\"}}'\n",
      "Status Code: 400\n",
      "Response Body: b'{\\n    \"code\": -345,\\n    \"message\": \"we could not find information in which sector Barbara Zawadzka\\'s fingerprints were found\"\\n}'\n"
     ]
    }
   ],
   "source": [
    "answer_url = \"https://centrala.ag3nts.org/report\"\n",
    "answer_response = requests.post(answer_url, json=answer_json)\n",
    "print(answer_response.request.body)  # Displays the request body\n",
    "\n",
    "# Assuming `login_response` is the response object from the login request\n",
    "print(\"Status Code:\", answer_response.status_code)  # Displays the status code (e.g., 200)\n",
    "print(\"Response Body:\", answer_response.text.encode('utf-8'))       # Displays the response content as a string"
   ]
  }
 ],
 "metadata": {
  "kernelspec": {
   "display_name": "ai_devs",
   "language": "python",
   "name": "python3"
  },
  "language_info": {
   "codemirror_mode": {
    "name": "ipython",
    "version": 3
   },
   "file_extension": ".py",
   "mimetype": "text/x-python",
   "name": "python",
   "nbconvert_exporter": "python",
   "pygments_lexer": "ipython3",
   "version": "3.12.7"
  }
 },
 "nbformat": 4,
 "nbformat_minor": 2
}
