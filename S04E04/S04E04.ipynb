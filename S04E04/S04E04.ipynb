{
 "cells": [
  {
   "cell_type": "markdown",
   "metadata": {},
   "source": [
    "Musisz przygotować API działające po protokole HTTPS, a następnie wysłać do centrali URL do tego API jako odpowiedź na zadanie o nazwie webhook.\n",
    "\n",
    "Pracownik centrali wyśle na Twoje API metodą POST dane w formacie JSON w formie jak poniżej:\n",
    "\n",
    "{\n",
    "\"instruction\":\"tutaj instrukcja gdzie poleciał dron\"\n",
    "}\n",
    "\n",
    "\n",
    "Opis lotu drona może być w dowolnej formie i jest to tekst w języku naturalnym, np. “poleciałem jedno pole w prawo, a później na sam dół”. Twoim zadaniem jest odpowiedzenie w maksymalnie dwóch słowach, co tam się znajduje. W naszym przykładzie odpowiedzią byłyby np. “skały”.\n",
    "\n",
    "Centrala wyśle do Twojego API kilka takich opisów lotów. Jeden po drugim. Każdy w oddzielnym zapytaniu. Zadanie uznawane jest za zaliczone, gdy wszystkie loty skończą się sukcesem. Przekazanie pilotowi nieprawdziwych informacji nawigacyjnych kończy się rozbiciem drona.\n",
    "\n",
    "W tym zadaniu możesz wykorzystać hosting na Azylu, jeśli masz na to ochotę (nie ma obowiązku tego robić!). Możesz także wykorzystać np. usługę ngrok, aby wystawić nam swoją lokalną aplikację wprost z Twojego dysku.\n",
    "\n",
    "Jak wysłać URL do API do centrali?\n",
    "\n",
    "{\n",
    " \"apikey\":\"TWOJ-KLUCZ\",\n",
    " \"answer\":\"https://azyl-12345.ag3nts.org/moje_api\",\n",
    " \"task\":\"webhook\"\n",
    "}\n",
    "\n",
    "\n",
    "Co należy zrobić w zadaniu?\n",
    "\n",
    "Tworzysz aplikację (hostowaną tam, gdzie zechcesz), która przyjmuje requesty w formie JSON-a po HTTPS.\n",
    "\n",
    "Musisz przygotować dość złożonego prompta, który w sposób zrozumiały dla LLM-a wyjaśni mu, jak wygląda mapa, którą właśnie oglądasz. Sugerujemy NIE korzystać tutaj z modelu graficznego rozpoznającego obraz. To mogłoby być bardzo kosztowne i skomplikowane.\n",
    "\n",
    "Wysyłasz URL-a do Twojego API do centrali\n",
    "\n",
    "Centrala wysyła serię zapytań pod adres URL, który został wysłany w polu “answer”\n",
    "\n",
    "JSON od centrali zawiera pole “instruction” z opisem lotu drona\n",
    "\n",
    "Twoim zadaniem jest zwrócenie poprawnego JSON-a z polem “description” zawierającego opis pola, na którym znajduje się dron po odbyciu lotu\n",
    "\n",
    "Opis miejsca, nad którym zawisł dron może mieć maksymalnie dwa słowa - opis ma być po polsku\n",
    "\n",
    "Twój JSON może mieć tyle pól, ile potrzebujesz (przydatne przy ‘głośnym myśleniu’!), ale tylko description jest brane pod uwagę.\n",
    "\n",
    "Jeśli zaliczysz trzy loty, otrzymasz flagę. Flaga zostanie przesłana w odpowiedzi na wywołanie, w którym podajesz URL swojej aplikacji do centrali (punkt 3 instrukcji).\n",
    "\n",
    "UWAGA: absolutnie kluczowym elementem zadania jest sprytne opisanie modelowi językowemu, jak wygląda świat z mapy. Musi to być zrobione w sposób jednoznaczny. Pamiętaj także, że mapa ma formę kwadratu 4x4. Pamiętaj także, że Twoje API powinno być bezstanowe, co oznacza, że NIE zapamiętujesz, gdzie skończył się ostatni lot drona. Zawsze zaczynasz z pozycji startowej.\n",
    "\n",
    "Jeśli masz aktywne konto na Azylu, możesz też użyć SSH do przekierowania swojego lokalnego portu (na przykładzie = 3000) na swój port na Azylu (na przykladzie = 50005) w ten sposób:\n",
    "\n",
    "ssh -R 50005:localhost:3000 agent10005@azyl.ag3nts.org -p 5022\n",
    "\n",
    "Oczywiście podajesz swoją nazwę użytkownika. SSH po zalogowaniu będzie wyświetlało linię poleceń, ale będzie też działający tunel w tle, który przekieruje wywołania twojej dedykowanej strony (na przykładzie = https://azyl-50005.ag3nts.org/) do twojej aplikacji lokalnej.\n",
    "\n",
    "UWAGA - przy takim rozwiązaniu, Twoja aplikacja powinna serwować ruch nieszyfrowany, czyli http:// i zostawić Azylowi jego zaszyfrowanie (dzieje sie to automatycznie)"
   ]
  },
  {
   "cell_type": "code",
   "execution_count": 18,
   "metadata": {},
   "outputs": [
    {
     "name": "stdout",
     "output_type": "stream",
     "text": [
      "{\n",
      "    \"[0,0]\": \"start\",\n",
      "    \"[0,1]\": \"łąka\",\n",
      "    \"[0,2]\": \"drzewo\",\n",
      "    \"[0,3]\": \"dom\",\n",
      "    \"[1,0]\": \"łąka\",\n",
      "    \"[1,1]\": \"młyn\",\n",
      "    \"[1,2]\": \"łaka\",\n",
      "    \"[1,3]\": \"łaka\",\n",
      "    \"[2,0]\": \"łąka\",\n",
      "    \"[2,1]\": \"łąka\",\n",
      "    \"[2,2]\": \"skały\",\n",
      "    \"[2,3]\": \"drzewa\",\n",
      "    \"[3,0]\": \"skały\",\n",
      "    \"[3,1]\": \"skały\",\n",
      "    \"[3,2]\": \"samochód\",\n",
      "    \"[3,3]\": \"jaskinia\"\n",
      "}\n"
     ]
    }
   ],
   "source": [
    "import json\n",
    "MAPA = {\n",
    "    \"[0,0]\": \"start\",\n",
    "    \"[0,1]\": \"łąka\",\n",
    "    \"[0,2]\": \"drzewo\",\n",
    "    \"[0,3]\": \"dom\",\n",
    "    \"[1,0]\": \"łąka\",\n",
    "    \"[1,1]\": \"młyn\",\n",
    "    \"[1,2]\": \"łaka\",\n",
    "    \"[1,3]\": \"łaka\",\n",
    "    \"[2,0]\": \"łąka\",\n",
    "    \"[2,1]\": \"łąka\",\n",
    "    \"[2,2]\": \"skały\",\n",
    "    \"[2,3]\": \"drzewa\",\n",
    "    \"[3,0]\": \"skały\",\n",
    "    \"[3,1]\": \"skały\",\n",
    "    \"[3,2]\": \"samochód\",\n",
    "    \"[3,3]\": \"jaskinia\"\n",
    "}\n",
    "print(json.dumps(MAPA, indent=4).encode('utf-8').decode('unicode_escape'))\n"
   ]
  },
  {
   "cell_type": "code",
   "execution_count": 19,
   "metadata": {},
   "outputs": [],
   "source": [
    "import os\n",
    "from dotenv import load_dotenv\n",
    "\n",
    "load_dotenv()\n",
    "personal_api_key = os.getenv(\"PERSONAL_API_KEY\")\n"
   ]
  },
  {
   "cell_type": "code",
   "execution_count": 33,
   "metadata": {},
   "outputs": [
    {
     "name": "stdout",
     "output_type": "stream",
     "text": [
      "b'{\"apikey\": \"1400cbf0-b7dd-49ab-9342-6ad8fd26ba69\", \"answer\": \"https://azyl-51364.ag3nts.org\", \"task\": \"webhook\"}'\n",
      "Status Code: 200\n",
      "Response Body: {\n",
      "    \"code\": 0,\n",
      "    \"message\": \"{{FLG:DARKCAVE}}\"\n",
      "}\n"
     ]
    }
   ],
   "source": [
    "import requests\n",
    "## Wysyłam api do centrali\n",
    "url_api = {\n",
    " \"apikey\":personal_api_key,\n",
    " \"answer\":\"https://azyl-51364.ag3nts.org\",\n",
    " \"task\":\"webhook\"\n",
    "}\n",
    "\n",
    "answer_url = \"https://centrala.ag3nts.org/report\"\n",
    "answer_response = requests.post(answer_url, json=url_api)\n",
    "print(answer_response.request.body)  # Displays the request body\n",
    "\n",
    "# Assuming `login_response` is the response object from the login request\n",
    "print(\"Status Code:\", answer_response.status_code)  # Displays the status code (e.g., 200)\n",
    "print(\"Response Body:\", answer_response.text.encode('utf-8').decode('unicode-escape'))       # Displays the response content as a string\n",
    "\n"
   ]
  },
  {
   "cell_type": "code",
   "execution_count": 1,
   "metadata": {},
   "outputs": [
    {
     "name": "stdout",
     "output_type": "stream",
     "text": [
      "                 _              _____       _                        \n",
      "  __ _ _____   _| |  __ _  __ _|___ / _ __ | |_ ___   ___  _ __ __ _ \n",
      " / _` |_  / | | | | / _` |/ _` | |_ \\| '_ \\| __/ __| / _ \\| '__/ _` |\n",
      "| (_| |/ /| |_| | || (_| | (_| |___) | | | | |_\\__ \\| (_) | | | (_| |\n",
      " \\__,_/___|\\__, |_(_)__,_|\\__, |____/|_| |_|\\__|___(_)___/|_|  \\__, |\n",
      "           |___/          |___/                                |___/ \n",
      "---------------------------------------------------------------------\n",
      "Last login: Mon Dec  2 19:01:31 2024 from 185.119.151.162\n",
      "---------------------------------------------------------------------\n",
      "Twoj numer portu to: 51364\n",
      "---------------------------------------------------------------------\n",
      "Spraw, aby Twoja aplikacja słuchała na tym porcie.\n",
      "Aplikacja będzie dostępna np. pod https://azyl-51364.ag3nts.org\n",
      "---------------------------------------------------------------------\n",
      "Nie musisz używać 'bun install' - wszystkie paczki są w systemie!\n",
      "---------------------------------------------------------------------\n",
      "\u001b[m\u001b[m\u001b[m\u001b[J[azyl] \u001b[01;32m➜  \u001b[36m~\u001b[00m \u001b[K\u001b[?1h\u001b=\u001b[?2004h                                      \u0007\u001b[?2004l\n",
      "\u001b[m\u001b[m\u001b[m\u001b[J[azyl] \u001b[01;31m➜  \u001b[36m~\u001b[00m \u001b[K\u001b[?1h\u001b=\u001b[?2004h                                      "
     ]
    }
   ],
   "source": [
    "!sshpass -p 'SI4uIJbTW5' ssh -R 51364:localhost:3000 agent11364@azyl.ag3nts.org -p 5022"
   ]
  }
 ],
 "metadata": {
  "kernelspec": {
   "display_name": "ai_devs",
   "language": "python",
   "name": "python3"
  },
  "language_info": {
   "codemirror_mode": {
    "name": "ipython",
    "version": 3
   },
   "file_extension": ".py",
   "mimetype": "text/x-python",
   "name": "python",
   "nbconvert_exporter": "python",
   "pygments_lexer": "ipython3",
   "version": "3.12.7"
  }
 },
 "nbformat": 4,
 "nbformat_minor": 2
}
