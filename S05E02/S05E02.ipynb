{
 "cells": [
  {
   "cell_type": "markdown",
   "metadata": {},
   "source": [
    "Dotarliśmy do logów pochodzących z agenta, który niegdyś wykorzystywany był przez Centralę. Rozwiązanie to było przejęte od sił robotów, jednak teraz straciliśmy do niego dostęp, a jest nam ono nadal potrzebne. Na podstawie analizy logów, trzeba wywnioskować, jak ten agent do tej pory działał i do czego służył. Twoim zadaniem jest odtworzenie od zera tego agenta we własnym środowisku. Oczywiście nie musi on zwracać tych samych komunikatów na ekran, co oryginał, ale byłoby super, gdyby zwracał te same wyniki co soft, którego niegdyś używaliśmy. Przeprowadź niezbędną analizę, zapoznaj się z pytaniem Centrali i zwróć potrzebne dane w ramach zadania o nazwie ‘gps’.\n",
    "\n",
    "Oto wspomniane logi:\n",
    "\n",
    "https://centrala.ag3nts.org/data/TUTAJ-KLUCZ/gps.txt\n",
    "\n",
    "Tutaj pytanie od centrali:\n",
    "\n",
    "https://centrala.ag3nts.org/data/TUTAJ-KLUCZ/gps_question.json\n",
    "\n",
    "Do wykonania tego zadanie będziesz potrzebować API do bazy danych z S03E03 oraz API do sprawdzania lokalizacji osób z S03E04.\n",
    "\n",
    "Co należy zrobić w zadaniu?\n",
    "\n",
    "Przeczytaj logi z niedziałającego agenta\n",
    "\n",
    "Spróbuj wywnioskować, jaki był cel istnienia tego agenta i co on tak naprawdę robił\n",
    "\n",
    "Wczytaj dane wejściowe (pytanie) z pliku JSON dostarczonego przez Centralę\n",
    "\n",
    "Zaklasyfikuj, jakiego rodzaju informacje trzeba pobrać i skąd (masz do dyspozycji dwa API)\n",
    "\n",
    "Odwołaj się do odpowiednich API, połącz wymagane dane i odeślij je do Centrali jako task ‘gps’.\n",
    "\n",
    "Jeśli wszystkie dane zostaną przesłane poprawnie, Centrala odpowie flagą.\n",
    "\n",
    "Oczekiwany format odpowiedzi:\n",
    "\n",
    "{\n",
    "    \"imie\": {\n",
    "        \"lat\": 12.345,\n",
    "        \"lon\": 65.431\n",
    "    },\n",
    "    \"kolejne-imie\": {\n",
    "        \"lat\": 19.433,\n",
    "        \"lon\": 12.123\n",
    "    }\n",
    "}\n",
    "\n"
   ]
  },
  {
   "cell_type": "code",
   "execution_count": 1,
   "metadata": {},
   "outputs": [
    {
     "data": {
      "text/plain": [
       "True"
      ]
     },
     "execution_count": 1,
     "metadata": {},
     "output_type": "execute_result"
    }
   ],
   "source": [
    "import requests\n",
    "import os\n",
    "import json\n",
    "from dotenv import load_dotenv\n",
    "\n",
    "load_dotenv()"
   ]
  },
  {
   "cell_type": "code",
   "execution_count": 2,
   "metadata": {},
   "outputs": [],
   "source": [
    "personal_api_key = os.getenv(\"PERSONAL_API_KEY\")\n",
    "openai_api_key = os.getenv(\"OPENAI_API_KEY\")\n"
   ]
  },
  {
   "cell_type": "code",
   "execution_count": 3,
   "metadata": {},
   "outputs": [
    {
     "name": "stdout",
     "output_type": "stream",
     "text": [
      "=============== Execution log #01 - 2024/12/06 5:01 ===============\n",
      "\n",
      "> Starting Agent... [OK]\n",
      "> Reading data from file... [OK]\n",
      "> Processing user question... [OK]\n",
      "> Preparing plan...\n",
      "> Executing plan...\n",
      "  - Step 1: Check if this is username or place - select API or DB [OK]\n",
      "     - INFO: username found - 'Barbara'\n",
      "  - Step 2: Check if user exists in external MySQL database... [OK]\n",
      "     - INFO: user found - 'Barbara' with ID=39\n",
      "  - Step 3: Get user GPS coordinates from external API...\n",
      "     - preparing JSON for the request\n",
      "     - sending request to /gps\n",
      "> FATAL: something is wrong!\n",
      "    DEBUG: Error: Parse error on line 2:\n",
      "    { \"userID\": 39,}\n",
      "    ---------------^\n",
      "    Expecting 'STRING', got '}'\n",
      "> Sending debug information to developers... [OK]\n",
      "\n",
      "\n",
      "\n",
      "=============== Execution log #02 = 2024/10/30 21:37 ==============\n",
      "\n",
      "> Starting Agent... [OK]\n",
      "> Reading data from file... [OK]\n",
      "> Processing user question... [OK]\n",
      "> Preparing plan...\n",
      "> Executing plan...\n",
      "  - Step 1: Check if this is username or place - select API or DB [OK]\n",
      "     - place found - 'SOSNOWIEC'\n",
      "     - Check if place exists in external API /places... [OK]\n",
      "       - INFO: not founda. Skipping...\n",
      "  - Step 3: Checking another entry...\n",
      "     - place found - 'RADOM'\n",
      "     - Check if place exists in external API /places... [OK]\n",
      "     - INFO: found\n",
      "  - Step 4: Extracting users from that place... [OK]\n",
      "  - Step 5: Checking users in database [OK]\n",
      "     - Skipping user 'WALDEMAR' - doesn't exist\n",
      "     - Collecting ID's for other users\n",
      "  - Step 6: Getting GPS coordinates for users... [OK]\n",
      "     - preparing JSON for the request query=RAFAL\n",
      "     - Check if user exists in external MySQL database... [OK]\n",
      "       - INFO: user found - 'RAFAL' with ID=28\n",
      "     - preparing JSON for the request userID=28 [OK]\n",
      "     - sending request to /gps [OK]\n",
      "       - got: { \"lat\": 53.45202959644885, \"lon\": 18.759208410091723 }\n",
      "  - Step 7: Executing 'Step 6' for each user...\n",
      "     - got: error 501\n",
      "       - Retrying...\n",
      "       - Retrying...\n",
      "       - Retrying... [OK]\n",
      "       - 4 users processed [OK]\n",
      "  - Step 8: Preparing final data...\n",
      "       - JSON created [OK]\n",
      "       - sending data to centrala.ag3nts.org/report as 'gps'\n",
      "  - Step 9: Checking confirmation from centrala...\n",
      "       - returned code: 0\n",
      "       - returned message: 'Answer accepted'\n",
      "> Turning off Agent... [OK]\n",
      "\n",
      "\n",
      "=============== Execution log #03 = 2024/10/26 10:21 ==============\n",
      "\n",
      "> Starting Agent... [OK]\n",
      "> Reading data from file...\n",
      "  - FATAL: Error reading file - this is not a valid JSON\n",
      "\n",
      "{'question': 'Wiemy, że Rafał planował udać się do Lubawy, ale musimy się\\xa0dowiedzieć, kto tam na niego czekał. Nie wiemy, czy te osoby nadal tam są. Jeśli to możliwe, to spróbuj namierzyć ich za pomocą\\xa0systemu GPS. Jest szansa, że samochody i elektronika, z którą\\xa0podróżują, zdradzą ich pozycję. A! Ważna sprawa. Nie próbuj nawet wyciągać lokalizacji dla Barbary, bo roboty teraz monitorują\\xa0każde zapytanie do API i gdy zobaczą coś, co zawiera jej imię, to podniosą alarm. Zwróć nam więc koordynaty wszystkich osób, ale koniecznie bez Barbary.'}\n"
     ]
    }
   ],
   "source": [
    "logs = requests.get(f\"https://centrala.ag3nts.org/data/{personal_api_key}/gps.txt\").text\n",
    "question = requests.get(f\"https://centrala.ag3nts.org/data/{personal_api_key}/gps_question.json\").json()\n",
    "\n",
    "with open(\"logs.txt\", \"w\") as f:\n",
    "    f.write(logs)\n",
    "\n",
    "with open(\"question.json\", \"w\") as f:\n",
    "    json.dump(question, f, indent=2)\n",
    "\n",
    "print(logs)\n",
    "print(question)"
   ]
  },
  {
   "cell_type": "code",
   "execution_count": null,
   "metadata": {},
   "outputs": [],
   "source": []
  },
  {
   "cell_type": "code",
   "execution_count": 4,
   "metadata": {},
   "outputs": [],
   "source": [
    "import sys\n",
    "sys.path.append('..')\n",
    "from ai_devs import Agent, SearchPeopleAndCityService\n",
    "\n",
    "# Initialize services\n",
    "agent = Agent(1)\n",
    "search_service = SearchPeopleAndCityService()\n"
   ]
  },
  {
   "cell_type": "code",
   "execution_count": 5,
   "metadata": {},
   "outputs": [
    {
     "name": "stdout",
     "output_type": "stream",
     "text": [
      "{'lat': 53.451974, 'lon': 18.759189}\n"
     ]
    },
    {
     "data": {
      "text/plain": [
       "{'lat': 53.451974, 'lon': 18.759189}"
      ]
     },
     "execution_count": 5,
     "metadata": {},
     "output_type": "execute_result"
    }
   ],
   "source": [
    "search_service.get_location(28, print_response=True)"
   ]
  },
  {
   "cell_type": "code",
   "execution_count": 6,
   "metadata": {},
   "outputs": [
    {
     "name": "stdout",
     "output_type": "stream",
     "text": [
      "Processing RAFAL\n",
      "person\n",
      "{'lat': 53.451974, 'lon': 18.759189}\n",
      "Processing LUBAWA\n",
      "city\n",
      "RAFAL AZAZEL BARBARA SAMUEL\n",
      "Processing AZAZEL\n",
      "person\n",
      "{'lat': 50.064851459004686, 'lon': 19.94988170674601}\n",
      "Processing BARBARA\n",
      "Processing SAMUEL\n",
      "person\n",
      "{'lat': 53.50357079380177, 'lon': 19.745866344712706}\n",
      "b'{\"task\": \"gps\", \"apikey\": \"1400cbf0-b7dd-49ab-9342-6ad8fd26ba69\", \"answer\": {\"RAFAL\": {\"lat\": 53.451974, \"lon\": 18.759189}, \"AZAZEL\": {\"lat\": 50.064851459004686, \"lon\": 19.94988170674601}, \"SAMUEL\": {\"lat\": 53.50357079380177, \"lon\": 19.745866344712706}}}'\n",
      "Status Code: 200\n",
      "Response Body: b'{\\n    \"code\": 0,\\n    \"message\": \"{{FLG:COORDINATES}}\"\\n}'\n",
      "Max trials reached without success\n"
     ]
    }
   ],
   "source": [
    "agent.run(question, logs)\n"
   ]
  }
 ],
 "metadata": {
  "kernelspec": {
   "display_name": "ai_devs",
   "language": "python",
   "name": "python3"
  },
  "language_info": {
   "codemirror_mode": {
    "name": "ipython",
    "version": 3
   },
   "file_extension": ".py",
   "mimetype": "text/x-python",
   "name": "python",
   "nbconvert_exporter": "python",
   "pygments_lexer": "ipython3",
   "version": "3.12.7"
  }
 },
 "nbformat": 4,
 "nbformat_minor": 2
}
