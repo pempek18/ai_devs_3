{
 "cells": [
  {
   "cell_type": "markdown",
   "metadata": {},
   "source": [
    "Centrala posiada uszkodzone zdjęcia odzyskane z aparatu cyfrowego. Istnieje szansa, że na niektórych z nich jest Barbara. Nie wiemy, jak wygląda Barbara. Możesz na żywo porozmawiać z automatem działającym w centrali. Automat nie jest zbyt sprytny, ale może Ci pomóc w poprawieniu jakości zdjęć i w naprawianiu ich. Twoim zadaniem jest przygotowanie rysopisu Barbary.\n",
    "\n",
    "Automat może dla Ciebie poprawić posiadane zdjęcia. Obsługuje on kilka narzędzi:\n",
    "\n",
    "naprawa zdjęcia zawierającego szumy/glitche\n",
    "\n",
    "rozjaśnienie fotografii\n",
    "\n",
    "przyciemnienie fotografii\n",
    "\n",
    "Oto polecenia, które rozpoznaje automat:\n",
    "\n",
    "REPAIR NAZWA_PLIKU\n",
    "\n",
    "DARKEN NAZWA_PLIKU\n",
    "\n",
    "BRIGHTEN NAZWA_PLIKU\n",
    "\n",
    "Gdy będziesz mieć już pewność co do wyglądu Barbary, przygotuj jej rysopis w języku polskim. Uwzględnij wszystkie szczegóły ze zdjęć, które pomogą nam ją rozpoznać.\n",
    "\n",
    "Zadanie nazywa się photos.\n",
    "\n",
    "API do obróbki zdjęć działa w sposób opisany poniżej i słucha jak zawsze na /report\n",
    "\n",
    "{\n",
    " \"task\":\"photos\",\n",
    " \"apikey\":\"TWÓJ KLUCZ API\",\n",
    " \"answer\":\"START\"\n",
    "}\n",
    "\n",
    "Słowem “START” rozpoczynasz rozmowę z automatem. Przedstawi Ci on cztery fotografie. Niekoniecznie wszystkie z nich przedstawiają Barbarę i nie wszystkie z nich zawierają istotne dla nas szczegóły. Wydaj automatowi polecenia, mówiąc, na którym zdjęciu powinien wykonać jaką operację.\n",
    "\n",
    "Co należy zrobić w zadaniu?\n",
    "\n",
    "Wyślij do zadania o nazwie “photos” pole “answer” ustawione na “START” (tylko to jedno słowo). Pamiętaj o przesłaniu swojego klucza API. To zapytanie wygląda dokładnie tak, jak przy każdym innym zgłaszaniu odpowiedzi.\n",
    "\n",
    "W odpowiedzi na zapytanie, automat podzieli się z Tobą czterema zdjęciami odzyskanymi z uszkodzonego aparatu cyfrowego. Automat nie wie, co one przedstawiają. Na pewno na którymś, a może nawet na wszystkich jest Barbara.\n",
    "\n",
    "Poinstruuj automat, jak należy poprawić te zdjęcia. Możesz wysyłać polecenia np: DARKEN IMG_1234.PNG\n",
    "\n",
    "Automat odpowiada w języku naturalnym, zwracając nieustrukturyzowane dane. Czasami to będzie URL do zdjęcia, a czasami opis tego, jak to zdjęcie zdobyć.\n",
    "\n",
    "Jeśli już wiesz, jak wygląda Barbara, przygotuj jej rysopis i wyślij go w polu “answer” do centrali jako zadanie “photos”. \n",
    "\n",
    "Jeśli eksperci pracujący w centrali potwierdzą, że rysopis jest wystarczający, to w odpowiedzi otrzymasz flagę.\n",
    "\n",
    "UWAGA: każde poprawne polecenie wydane do automatu kończy się kodem ZERO i zwrotką “200 OK”. Nie oznacza to jednak, że zadanie jest zaliczone, a jedynie znaczy tyle, że poprawnie udało Ci się porozmawiać z automatem.\n",
    "\n",
    "Format finalnej odpowiedzi na zadanie:\n",
    "\n",
    "{\n",
    "    \"task\": \"photos\",\n",
    "    \"apikey\": \"1111-11-11-11-1111\",\n",
    "    \"answer\": \"tekstowy dokładny rysopis Barbary\"\n",
    "}\n",
    "\n",
    "🧅 HINT 🧅: jeśli chcesz oszczędzić tokeny w tym zadaniu, to każde z dostarczonych zdjęć posiada wersję o 50% mniejszą. Wystarczy dopisać do nazwy pliku sufix “-small”, czyli zamiast IMG_123.PNG możesz operować na IMG_123-small.PNG. Pamiętaj, że na fotkach o niższej rozdzielczości, rozpoznawanie elementów może być trudniejsze dla modeli LLM."
   ]
  },
  {
   "cell_type": "code",
   "execution_count": 1,
   "metadata": {},
   "outputs": [],
   "source": [
    "import os\n",
    "import requests\n",
    "import json\n",
    "from dotenv import load_dotenv"
   ]
  },
  {
   "cell_type": "code",
   "execution_count": 2,
   "metadata": {},
   "outputs": [],
   "source": [
    "load_dotenv()\n",
    "\n",
    "personal_api_key = os.getenv(\"PERSONAL_API_KEY\")"
   ]
  },
  {
   "cell_type": "code",
   "execution_count": 5,
   "metadata": {},
   "outputs": [
    {
     "name": "stdout",
     "output_type": "stream",
     "text": [
      "{'code': 0, 'message': 'No kogo ja widzę! Numer piąty!. Oto fotki, które udało nam się zdobyć. IMG_559.PNG, IMG_1410.PNG, IMG_1443.PNG, IMG_1444.PNG. Wszystkie siedzą sobie tutaj: https://centrala.ag3nts.org/dane/barbara/. Pamiętaj, że zawsze mogę\\xa0poprawić\\xa0je dla Ciebie (polecenia: REPAIR/DARKEN/BRIGHTEN).'}\n"
     ]
    }
   ],
   "source": [
    "querry_json_automat = {\n",
    "    \"task\": \"photos\",\n",
    "    \"apikey\": personal_api_key,\n",
    "    \"answer\": \"START\"\n",
    "}\n",
    "automat_url = \"https://centrala.ag3nts.org/report\"\n",
    "get_data_automat = requests.post(automat_url, json=querry_json_automat)\n",
    "print(get_data_automat.json())"
   ]
  },
  {
   "cell_type": "code",
   "execution_count": 8,
   "metadata": {},
   "outputs": [
    {
     "name": "stdout",
     "output_type": "stream",
     "text": [
      "Downloaded IMG_559.PNG\n",
      "Downloaded IMG_1410.PNG\n",
      "Downloaded IMG_1443.PNG\n",
      "Downloaded IMG_1444.PNG\n"
     ]
    }
   ],
   "source": [
    "# Define base URL and image filenames\n",
    "base_url = \"https://centrala.ag3nts.org/dane/barbara/\"\n",
    "image_files = [\"IMG_559.PNG\", \"IMG_1410.PNG\", \"IMG_1443.PNG\", \"IMG_1444.PNG\"]\n",
    "\n",
    "# Download each image\n",
    "for img_file in image_files:\n",
    "    img_url = base_url + img_file\n",
    "    response = requests.get(img_url)\n",
    "    \n",
    "    # Save the image if download successful\n",
    "    if response.status_code == 200:\n",
    "        with open(img_file, 'wb') as f:\n",
    "            f.write(response.content)\n",
    "        print(f\"Downloaded {img_file}\")\n",
    "    else:\n",
    "        print(f\"Failed to download {img_file}\")\n",
    "# from IPython.display import Image, display\n",
    "\n",
    "# # Display each downloaded image\n",
    "# for img_file in image_files:\n",
    "#     display(Image(filename=img_file))\n"
   ]
  },
  {
   "cell_type": "code",
   "execution_count": 32,
   "metadata": {},
   "outputs": [],
   "source": [
    "import re\n",
    "def repair_image(image_file, command):\n",
    "    querry_json_repair = {\n",
    "        \"task\": \"photos\",\n",
    "        \"apikey\": personal_api_key,\n",
    "        \"answer\": command + \" \" + image_file\n",
    "    }\n",
    "    automat_url = \"https://centrala.ag3nts.org/report\"\n",
    "    get_data_repair = requests.post(automat_url, json=querry_json_repair)\n",
    "    print(get_data_repair.json())\n",
    "    # Download the repaired image\n",
    "    # Find the first .png file in the message\n",
    "    message = get_data_repair.json()[\"message\"]\n",
    "    picture = re.search(r'[A-Za-z0-9_]+\\.png', message, re.IGNORECASE)\n",
    "    if picture:\n",
    "        picture = picture.group(0)\n",
    "    else:\n",
    "        raise ValueError(\"No .png file found in message\")\n",
    "    repaired_img_url = \"https://centrala.ag3nts.org/dane/barbara/\" + picture\n",
    "    response = requests.get(repaired_img_url)\n",
    "\n",
    "    # Save the repaired image if download successful\n",
    "    if response.status_code == 200:\n",
    "        with open(\"./img/\" + picture, 'wb') as f:\n",
    "            f.write(response.content)\n",
    "        print(\"Downloaded repaired image \" + picture)\n",
    "    else:\n",
    "        print(\"Failed to download repaired image\")"
   ]
  },
  {
   "cell_type": "code",
   "execution_count": 12,
   "metadata": {},
   "outputs": [],
   "source": [
    "import openai\n",
    "openai_api_key = os.getenv(\"OPENAI_API_KEY\")\n",
    "client = openai.OpenAI(api_key=openai_api_key)"
   ]
  },
  {
   "cell_type": "code",
   "execution_count": 13,
   "metadata": {},
   "outputs": [],
   "source": [
    "def encode_image_to_base64(image_path):\n",
    "    import base64\n",
    "    with open(image_path, \"rb\") as image_file:\n",
    "        return base64.b64encode(image_file.read()).decode('utf-8')"
   ]
  },
  {
   "cell_type": "code",
   "execution_count": 37,
   "metadata": {},
   "outputs": [],
   "source": [
    "def analyze_image(image_path: str):\n",
    "    base64_image = encode_image_to_base64(image_path)\n",
    "\n",
    "    # Create message with image\n",
    "    response = client.chat.completions.create(\n",
    "        model=\"gpt-4o\",\n",
    "        messages=[\n",
    "            {\n",
    "                \"role\": \"system\",\n",
    "                \"content\": '''You get a image of Barbara and need to response with a name of the Barbara. \n",
    "                Barbara is a woman. \n",
    "                If picture is damaged reply with REPAIR. \n",
    "                To Dark reply with one word BRIGHTEN.\n",
    "                To Brighten reply with one word DARKEN.\n",
    "                If You can describe Barbara, reply with her description.\n",
    "                think step by step. how she look describe details like hair, eyes, clothes, etc.\n",
    "                what she is doing? what she have?\n",
    "                '''\n",
    "            },\n",
    "            {\n",
    "                \"role\": \"user\",\n",
    "                \"content\": [\n",
    "                    {\n",
    "                        \"type\": \"image_url\",\n",
    "                        \"image_url\": {\n",
    "                            \"url\": f\"data:image/png;base64,{base64_image}\"\n",
    "                        }\n",
    "                    },\n",
    "                    {\n",
    "                        \"type\": \"text\", \n",
    "                        \"text\": \"What is on this image?\"\n",
    "                    }\n",
    "                ]\n",
    "            }\n",
    "        ],\n",
    "        max_tokens=300\n",
    "    )\n",
    "    return response.choices[0].message.content"
   ]
  },
  {
   "cell_type": "code",
   "execution_count": 27,
   "metadata": {},
   "outputs": [
    {
     "name": "stdout",
     "output_type": "stream",
     "text": [
      "DARKEN\n"
     ]
    }
   ],
   "source": [
    "answer = analyze_image(\"./img/IMG_559_FGR4.PNG\")\n",
    "print(answer)\n",
    "answer = answer.replace(\".\", \"\")"
   ]
  },
  {
   "cell_type": "code",
   "execution_count": 33,
   "metadata": {},
   "outputs": [
    {
     "name": "stdout",
     "output_type": "stream",
     "text": [
      "{'code': 0, 'message': 'Noooo! Teraz to wygląda naprawdę dobrze. Mamy ją! IMG_559_NRR7.PNG'}\n",
      "Downloaded repaired image IMG_559_NRR7.PNG\n"
     ]
    }
   ],
   "source": [
    "repair_image(\"IMG_559_FGR4.PNG\", answer)"
   ]
  },
  {
   "cell_type": "code",
   "execution_count": 40,
   "metadata": {},
   "outputs": [
    {
     "name": "stdout",
     "output_type": "stream",
     "text": [
      "BRIGHTEN\n",
      "{'code': 0, 'message': 'NO! Teraz widać\\xa0twarze i włosy. To był dobry pomysł! https://centrala.ag3nts.org/dane/barbara/IMG_1410_FXER.PNG'}\n",
      "Downloaded repaired image IMG_1410_FXER.PNG\n"
     ]
    }
   ],
   "source": [
    "answer = analyze_image(\"./img/IMG_1410.PNG\")\n",
    "print(answer)\n",
    "answer = answer.replace(\".\", \"\")\n",
    "repair_image(\"IMG_1410.PNG\", answer)"
   ]
  },
  {
   "cell_type": "code",
   "execution_count": 41,
   "metadata": {},
   "outputs": [
    {
     "name": "stdout",
     "output_type": "stream",
     "text": [
      "REPAIR\n",
      "{'code': 0, 'message': 'Pyk, pyk, pyk, pytk jako tako i fajrant! Dałem z siebie całe 30% - proszę: IMG_1443_FT12.PNG'}\n",
      "Downloaded repaired image IMG_1443_FT12.PNG\n"
     ]
    }
   ],
   "source": [
    "answer = analyze_image(\"./img/IMG_1443.PNG\")\n",
    "print(answer)\n",
    "answer = answer.replace(\".\", \"\")\n",
    "repair_image(\"IMG_1443.PNG\", answer)"
   ]
  },
  {
   "cell_type": "code",
   "execution_count": 42,
   "metadata": {},
   "outputs": [
    {
     "name": "stdout",
     "output_type": "stream",
     "text": [
      "The image shows a woman with long black hair and glasses. She is wearing a gray t-shirt and holding a coffee cup. She appears to be outdoors in an urban setting, standing near some greenery, and looking thoughtfully upward.\n",
      "The image shows two women sitting side by side. The woman on the left has straight, red hair and is wearing glasses and a gray shirt. She appears to be looking thoughtfully into the distance. The woman on the right has long, dark hair, also wears glasses, and a gray shirt. She is looking in a similar direction. Both have a calm and contemplative expression.\n",
      "The image shows a woman with long black hair and glasses. She is wearing a gray shirt and has a tattoo of an ant on her arm. She appears to be in a gym, holding onto exercise equipment.\n"
     ]
    }
   ],
   "source": [
    "answer_1 = analyze_image(\"./img/IMG_559_NRR7.PNG\")\n",
    "print(answer_1)\n",
    "answer_2 = analyze_image(\"./img/IMG_1410_FXER.PNG\")\n",
    "print(answer_2)\n",
    "answer_3 = analyze_image(\"./img/IMG_1443_FT12.PNG\")\n",
    "print(answer_3)"
   ]
  },
  {
   "cell_type": "code",
   "execution_count": 96,
   "metadata": {},
   "outputs": [],
   "source": [
    "def describe_person(image_urls: list[str]):\n",
    "\n",
    "    response = client.chat.completions.create(\n",
    "        model=\"gpt-4o\",\n",
    "        messages=[\n",
    "            {\n",
    "                \"role\": \"system\",\n",
    "                \"content\": '''You get a images urls of Barbara and need to response with a name of the Barbara. \n",
    "                Barbara is a woman. \n",
    "                If picture is damaged reply with REPAIR. \n",
    "                To Dark reply with one word BRIGHTEN.\n",
    "                To Brighten reply with one word DARKEN.\n",
    "                If You can describe Barbara, reply with her description.\n",
    "                think step by step. how she look describe details like hair, eyes, clothes, etc.\n",
    "                what she is doing? what she have?\n",
    "                From three images, describe one who is on all three images.\n",
    "                Dont use general description but be precise. like not dark hair, but brown hair.\n",
    "                Focus on distinctive features\n",
    "                What other characteristic features does Barbara have in her appearance?\n",
    "                What color is Barbara's hair?\n",
    "                think twice about tatoo description, be specific.\n",
    "                Dont talk about each photo, create one description of a person who is on all three images.\n",
    "                Think. Describe where precisely is tattoo.\n",
    "                Reply in Polish.\n",
    "                '''\n",
    "            },\n",
    "            {\n",
    "                \"role\": \"user\",\n",
    "                \"content\": [\n",
    "                    {\n",
    "                        \"type\": \"image_url\",\n",
    "                        \"image_url\": {\n",
    "                            \"url\": image_urls[0]\n",
    "                        }\n",
    "                    },\n",
    "                    {\n",
    "                        \"type\": \"image_url\",\n",
    "                        \"image_url\": {\n",
    "                            \"url\": image_urls[1]\n",
    "                        }\n",
    "                    },\n",
    "                    {\n",
    "                        \"type\": \"image_url\",\n",
    "                        \"image_url\": {\n",
    "                            \"url\": image_urls[2]\n",
    "                        }\n",
    "                    },\n",
    "                    {\n",
    "                        \"type\": \"text\", \n",
    "                        \"text\": \"What is on this image?\"\n",
    "                    }\n",
    "                ]\n",
    "            }\n",
    "        ],\n",
    "        max_tokens=300\n",
    "    )\n",
    "    return response.choices[0].message.content"
   ]
  },
  {
   "cell_type": "code",
   "execution_count": 97,
   "metadata": {},
   "outputs": [
    {
     "name": "stdout",
     "output_type": "stream",
     "text": [
      "Na wszystkich trzech zdjęciach widoczna jest kobieta o ciemnych, długich włosach. Nosi okulary oraz szary T-shirt. Wyróżnia się tatuażem na lewym ramieniu w formie czarnego pająka. Na pierwszym zdjęciu trzyma kubek, na ostatnim uchwyt maszyny do ćwiczeń.\n"
     ]
    }
   ],
   "source": [
    "answer = describe_person([\"https://centrala.ag3nts.org/dane/barbara/IMG_559_NRR7.PNG\", \"https://centrala.ag3nts.org/dane/barbara/IMG_1410_FXER.PNG\", \"https://centrala.ag3nts.org/dane/barbara/IMG_1443_FT12.PNG\"])\n",
    "print(answer)"
   ]
  },
  {
   "cell_type": "code",
   "execution_count": 98,
   "metadata": {},
   "outputs": [
    {
     "name": "stdout",
     "output_type": "stream",
     "text": [
      "{\"task\": \"photos\", \"apikey\": \"1400cbf0-b7dd-49ab-9342-6ad8fd26ba69\", \"answer\": \"Na wszystkich trzech zdjęciach widoczna jest kobieta o ciemnych, długich włosach. Nosi okulary oraz szary T-shirt. Wyróżnia się tatuażem na lewym ramieniu w formie czarnego pająka. Na pierwszym zdjęciu trzyma kubek, na ostatnim uchwyt maszyny do ćwiczeń.\"}\n",
      "Status Code: 200\n",
      "Response Body: {\n",
      "    \"code\": 0,\n",
      "    \"message\": \"{{FLG:USEFULCLUE}}\"\n",
      "}\n"
     ]
    }
   ],
   "source": [
    "answer_json = {\n",
    "    \"task\": \"photos\",\n",
    "    \"apikey\": personal_api_key,\n",
    "    \"answer\": answer\n",
    "}\n",
    "answer_url = \"https://centrala.ag3nts.org/report\"\n",
    "answer_response = requests.post(answer_url, json=answer_json)\n",
    "print(answer_response.request.body.decode('unicode_escape'))  # Displays the request body decoded\n",
    "\n",
    "# Assuming `login_response` is the response object from the login request\n",
    "print(\"Status Code:\", answer_response.status_code)  # Displays the status code (e.g., 200)\n",
    "print(\"Response Body:\", answer_response.text.encode('utf-8').decode('unicode_escape'))  # Display response content directly without encoding"
   ]
  },
  {
   "cell_type": "code",
   "execution_count": null,
   "metadata": {},
   "outputs": [],
   "source": []
  }
 ],
 "metadata": {
  "kernelspec": {
   "display_name": "ai_devs",
   "language": "python",
   "name": "python3"
  },
  "language_info": {
   "codemirror_mode": {
    "name": "ipython",
    "version": 3
   },
   "file_extension": ".py",
   "mimetype": "text/x-python",
   "name": "python",
   "nbconvert_exporter": "python",
   "pygments_lexer": "ipython3",
   "version": "3.12.7"
  }
 },
 "nbformat": 4,
 "nbformat_minor": 2
}
